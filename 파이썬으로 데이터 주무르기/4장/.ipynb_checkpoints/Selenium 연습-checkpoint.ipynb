{
 "cells": [
  {
   "cell_type": "code",
   "execution_count": 1,
   "metadata": {},
   "outputs": [],
   "source": [
    "from selenium import webdriver"
   ]
  },
  {
   "cell_type": "code",
   "execution_count": 16,
   "metadata": {},
   "outputs": [],
   "source": [
    "driver = webdriver.Chrome('chromedriver.exe')\n",
    "driver.get('http://www.naver.com')"
   ]
  },
  {
   "cell_type": "code",
   "execution_count": 6,
   "metadata": {
    "scrolled": false
   },
   "outputs": [
    {
     "data": {
      "text/plain": [
       "True"
      ]
     },
     "execution_count": 6,
     "metadata": {},
     "output_type": "execute_result"
    }
   ],
   "source": [
    "driver.save_screenshot('001.jpg')"
   ]
  },
  {
   "cell_type": "code",
   "execution_count": 14,
   "metadata": {},
   "outputs": [],
   "source": [
    "elem_login = driver.find_element_by_id(\"id\")\n",
    "elem_login.clear()\n",
    "elem_login.send_keys(\"dlcjfgus2678\")\n",
    "\n",
    "elem_login = driver.find_element_by_id(\"pw\")\n",
    "elem_login.clear()\n",
    "elem_login.send_keys(\"dlcjfgus55\")"
   ]
  },
  {
   "cell_type": "code",
   "execution_count": 12,
   "metadata": {},
   "outputs": [],
   "source": [
    "xpath = \"\"\"//*[@id=\"frmNIDLogin\"]/fieldset/input\"\"\"\n",
    "\n",
    "driver.find_element_by_xpath(xpath).click()"
   ]
  },
  {
   "cell_type": "code",
   "execution_count": 17,
   "metadata": {},
   "outputs": [],
   "source": [
    "xpath_login = \"\"\"//*[@id=\"account\"]/div/a/i\"\"\"\n",
    "\n",
    "driver.find_element_by_xpath(xpath_login).click()"
   ]
  },
  {
   "cell_type": "code",
   "execution_count": 19,
   "metadata": {},
   "outputs": [],
   "source": [
    "from bs4 import BeautifulSoup\n",
    "\n",
    "html = driver.page_source\n",
    "soup = BeautifulSoup(html, 'html.parser')"
   ]
  },
  {
   "cell_type": "code",
   "execution_count": 29,
   "metadata": {
    "scrolled": true
   },
   "outputs": [
    {
     "data": {
      "text/plain": [
       "[<div class=\"name _ccr(lst.from)\"><span class=\"blind\">보낸 이:</span><a class=\"_c1(myContextMenu|showSenderContextLayer|list|15135) _stopDefault\" href=\"#\" title='\"Namepr\" &lt;namepr@namepr.net&gt;'>Namepr</a></div>,\n",
       " <div class=\"name _ccr(lst.from)\"><span class=\"blind\">보낸 이:</span><a class=\"_c1(myContextMenu|showSenderContextLayer|list|15134) _stopDefault\" href=\"#\" title='\"따뜻한하루\" &lt;good@onday.or.kr&gt;'>따뜻한하루</a></div>,\n",
       " <div class=\"name _ccr(lst.from)\"><span class=\"blind\">보낸 이:</span><a class=\"_c1(myContextMenu|showSenderContextLayer|list|15133) _stopDefault\" href=\"#\" title='\"옥션\" &lt;auction@auction.co.kr&gt;'>옥션</a></div>,\n",
       " <div class=\"name _ccr(lst.from)\"><span class=\"blind\">보낸 이:</span><a class=\"_c1(myContextMenu|showSenderContextLayer|list|15132) _stopDefault\" href=\"#\" title='\"Google\" &lt;no-reply@accounts.google.com&gt;'>Google</a></div>,\n",
       " <div class=\"name _ccr(lst.from)\"><span class=\"blind\">보낸 이:</span><a class=\"_c1(myContextMenu|showSenderContextLayer|list|15131) _stopDefault\" href=\"#\" title='\"개교70주년 사무국\" &lt;70th@khu.ac.kr&gt;'>개교70주년 사무국</a></div>,\n",
       " <div class=\"name _ccr(lst.from)\"><span class=\"blind\">보낸 이:</span><a class=\"_c1(myContextMenu|showSenderContextLayer|list|15130) _stopDefault\" href=\"#\" title='\"윤명근\" &lt;data@nia.or.kr&gt;'>윤명근</a></div>,\n",
       " <div class=\"name _ccr(lst.from)\"><span class=\"blind\">보낸 이:</span><a class=\"_c1(myContextMenu|showSenderContextLayer|list|15129) _stopDefault\" href=\"#\" title='\"미래문명원\" &lt;gafc@khu.ac.kr&gt;'>미래문명원</a></div>,\n",
       " <div class=\"name _ccr(lst.from)\"><span class=\"blind\">보낸 이:</span><a class=\"_c1(myContextMenu|showSenderContextLayer|list|15128) _stopDefault\" href=\"#\" title='\"신문방송국\" &lt;khsd3070@khu.ac.kr&gt;'>신문방송국</a></div>,\n",
       " <div class=\"name _ccr(lst.from)\"><span class=\"blind\">보낸 이:</span><a class=\"_c1(myContextMenu|showSenderContextLayer|list|15127) _stopDefault\" href=\"#\" title='\"정보처\" &lt;it@khu.ac.kr&gt;'>정보처</a></div>,\n",
       " <div class=\"name _ccr(lst.from)\"><span class=\"blind\">보낸 이:</span><a class=\"_c1(myContextMenu|showSenderContextLayer|list|15126) _stopDefault\" href=\"#\" title='\"따뜻한하루\" &lt;good@onday.or.kr&gt;'>따뜻한하루</a></div>,\n",
       " <div class=\"name _ccr(lst.from)\"><span class=\"blind\">보낸 이:</span><a class=\"_c1(myContextMenu|showSenderContextLayer|list|15125) _stopDefault\" href=\"#\" title='\"Facebook\" &lt;notification@facebookmail.com&gt;'>Facebook</a></div>,\n",
       " <div class=\"name _ccr(lst.from)\"><span class=\"blind\">보낸 이:</span><a class=\"_c1(myContextMenu|showSenderContextLayer|list|15124) _stopDefault\" href=\"#\" title='\"Facebook\" &lt;notification@facebookmail.com&gt;'>Facebook</a></div>,\n",
       " <div class=\"name _ccr(lst.from)\"><span class=\"blind\">보낸 이:</span><a class=\"_c1(myContextMenu|showSenderContextLayer|list|15123) _stopDefault\" href=\"#\" title='\"공공I-PIN\" &lt;gpin_return@klid.or.kr&gt;'>공공I-PIN</a></div>,\n",
       " <div class=\"name _ccr(lst.from)\"><span class=\"blind\">보낸 이:</span><a class=\"_c1(myContextMenu|showSenderContextLayer|list|15122) _stopDefault\" href=\"#\" title='\"NHN KCP &lt;발신전용&gt;\" &lt;pgadmcust@kcp.co.kr&gt;'>NHN KCP &lt;발신전..</a></div>,\n",
       " <div class=\"name _ccr(lst.from)\"><span class=\"blind\">보낸 이:</span><a class=\"_c1(myContextMenu|showSenderContextLayer|list|15121) _stopDefault\" href=\"#\" title='\"멜론티켓\" &lt;noreply_melonticket@kakaocorp.com&gt;'>멜론티켓</a></div>]"
      ]
     },
     "execution_count": 29,
     "metadata": {},
     "output_type": "execute_result"
    }
   ],
   "source": [
    "raw_list = soup.find_all('div',\"name _ccr(lst.from)\")\n",
    "raw_list"
   ]
  },
  {
   "cell_type": "code",
   "execution_count": 30,
   "metadata": {
    "scrolled": true
   },
   "outputs": [
    {
     "data": {
      "text/plain": [
       "['Namepr',\n",
       " '따뜻한하루',\n",
       " '옥션',\n",
       " 'Google',\n",
       " '개교70주년 사무국',\n",
       " '윤명근',\n",
       " '미래문명원',\n",
       " '신문방송국',\n",
       " '정보처',\n",
       " '따뜻한하루',\n",
       " 'Facebook',\n",
       " 'Facebook',\n",
       " '공공I-PIN',\n",
       " 'NHN KCP <발신전..',\n",
       " '멜론티켓']"
      ]
     },
     "execution_count": 30,
     "metadata": {},
     "output_type": "execute_result"
    }
   ],
   "source": [
    "send_list = [raw_list[n].find('a').get_text() for n in range(0,len(raw_list))]\n",
    "send_list"
   ]
  }
 ],
 "metadata": {
  "kernelspec": {
   "display_name": "Python 3",
   "language": "python",
   "name": "python3"
  },
  "language_info": {
   "codemirror_mode": {
    "name": "ipython",
    "version": 3
   },
   "file_extension": ".py",
   "mimetype": "text/x-python",
   "name": "python",
   "nbconvert_exporter": "python",
   "pygments_lexer": "ipython3",
   "version": "3.6.8"
  }
 },
 "nbformat": 4,
 "nbformat_minor": 2
}
