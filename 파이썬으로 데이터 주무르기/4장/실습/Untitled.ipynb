{
 "cells": [
  {
   "cell_type": "code",
   "execution_count": 2,
   "metadata": {},
   "outputs": [],
   "source": [
    "from bs4 import BeautifulSoup\n",
    "from tqdm import tqdm_notebook\n",
    "from urllib.request import urlopen\n",
    "import pandas as pd\n",
    "import time"
   ]
  },
  {
   "cell_type": "code",
   "execution_count": 15,
   "metadata": {
    "scrolled": true
   },
   "outputs": [
    {
     "ename": "SyntaxError",
     "evalue": "invalid syntax (<ipython-input-15-92163371164d>, line 28)",
     "output_type": "error",
     "traceback": [
      "\u001b[1;36m  File \u001b[1;32m\"<ipython-input-15-92163371164d>\"\u001b[1;36m, line \u001b[1;32m28\u001b[0m\n\u001b[1;33m    genre = []\u001b[0m\n\u001b[1;37m        ^\u001b[0m\n\u001b[1;31mSyntaxError\u001b[0m\u001b[1;31m:\u001b[0m invalid syntax\n"
     ]
    }
   ],
   "source": [
    "for i in range(1,19):\n",
    "    \n",
    "    title =[]\n",
    "    singer = []\n",
    "    genre = []\n",
    "    album_num = []\n",
    "\n",
    "    if i < 10 :\n",
    "        i = '200' + str(i)\n",
    "    else:\n",
    "        i = '20' + str(i)\n",
    "        \n",
    "    url = 'https://www.melon.com/chart/age/index.htm?chartType=YE&chartGenre=KPOP&chartDate=%s' %(i)\n",
    "    \n",
    "    html = urlopen(url)\n",
    "    soup = BeautifulSoup(html,'html.parser')\n",
    "    \n",
    "    for i in range(0,50)\n",
    "        tit = soup.find_all('div', {'class':'ellipsis rank01'})\n",
    "        title.append(tit[i].find('a')['title'])\n",
    "\n",
    "        sin = soup.find_all('div', {'class':'ellipsis rank02'})\n",
    "        singer.append(sin[i].find('a')['title'].split()[0]\n",
    "    \n",
    "        al_n = soup.find_all('tr', {'class':'lst50'})\n",
    "        album_num.append(al_n[i].find('span', {'class':'bg_album_frame'})['onclick'].split('(')[1][1:9])\n",
    "                     \n",
    "    for j in album_num :\n",
    "        \n",
    "        genre = []\n",
    "        url_album = 'https://www.melon.com/album/detail.htm?albumId=%s' %(j)\n",
    "    \n",
    "        html = urlopen(url_album)\n",
    "        soup_al = BeautifulSoup(html,'html.parser')\n",
    "                      \n",
    "        gen = soup.find_all('dl', {\"class\":\"list\"})\n",
    "        genre.append(gen[0].find_all('dd')[1].text)\n",
    "\n",
    "    pd.DataFrame({'제목':title,'가수':singer,'장르':genre})"
   ]
  },
  {
   "cell_type": "code",
   "execution_count": 50,
   "metadata": {},
   "outputs": [
    {
     "data": {
      "text/plain": [
       "[]"
      ]
     },
     "execution_count": 50,
     "metadata": {},
     "output_type": "execute_result"
    }
   ],
   "source": [
    "a = melon_html.find_all('form', {'id':'frm'})\n",
    "a"
   ]
  },
  {
   "cell_type": "code",
   "execution_count": 49,
   "metadata": {},
   "outputs": [
    {
     "data": {
      "text/plain": [
       "[]"
      ]
     },
     "execution_count": 49,
     "metadata": {},
     "output_type": "execute_result"
    }
   ],
   "source": [
    "album_raw = melon_html.find_all('tr', {'class':'lst50'})\n",
    "album_raw"
   ]
  },
  {
   "cell_type": "code",
   "execution_count": 39,
   "metadata": {},
   "outputs": [
    {
     "ename": "IndexError",
     "evalue": "list index out of range",
     "output_type": "error",
     "traceback": [
      "\u001b[1;31m---------------------------------------------------------------------------\u001b[0m",
      "\u001b[1;31mIndexError\u001b[0m                                Traceback (most recent call last)",
      "\u001b[1;32m<ipython-input-39-1eda4acc332a>\u001b[0m in \u001b[0;36m<module>\u001b[1;34m\u001b[0m\n\u001b[1;32m----> 1\u001b[1;33m \u001b[0malbum_raw\u001b[0m\u001b[1;33m[\u001b[0m\u001b[1;36m0\u001b[0m\u001b[1;33m]\u001b[0m\u001b[1;33m.\u001b[0m\u001b[0mfind\u001b[0m\u001b[1;33m(\u001b[0m\u001b[1;34m'span'\u001b[0m\u001b[1;33m,\u001b[0m \u001b[1;33m{\u001b[0m\u001b[1;34m'class'\u001b[0m\u001b[1;33m:\u001b[0m\u001b[1;34m'bg_album_frame'\u001b[0m\u001b[1;33m}\u001b[0m\u001b[1;33m)\u001b[0m\u001b[1;33m[\u001b[0m\u001b[1;34m'onclick'\u001b[0m\u001b[1;33m]\u001b[0m\u001b[1;33m.\u001b[0m\u001b[0msplit\u001b[0m\u001b[1;33m(\u001b[0m\u001b[1;34m'('\u001b[0m\u001b[1;33m)\u001b[0m\u001b[1;33m[\u001b[0m\u001b[1;36m1\u001b[0m\u001b[1;33m]\u001b[0m\u001b[1;33m[\u001b[0m\u001b[1;36m1\u001b[0m\u001b[1;33m:\u001b[0m\u001b[1;36m9\u001b[0m\u001b[1;33m]\u001b[0m\u001b[1;33m\u001b[0m\u001b[1;33m\u001b[0m\u001b[0m\n\u001b[0m",
      "\u001b[1;31mIndexError\u001b[0m: list index out of range"
     ]
    }
   ],
   "source": [
    "album_raw[0].find('span', {'class':'bg_album_frame'})['onclick'].split('(')[1][1:9]"
   ]
  },
  {
   "cell_type": "code",
   "execution_count": 37,
   "metadata": {},
   "outputs": [
    {
     "ename": "AttributeError",
     "evalue": "ResultSet object has no attribute 'find'. You're probably treating a list of items like a single item. Did you call find_all() when you meant to call find()?",
     "output_type": "error",
     "traceback": [
      "\u001b[1;31m---------------------------------------------------------------------------\u001b[0m",
      "\u001b[1;31mAttributeError\u001b[0m                            Traceback (most recent call last)",
      "\u001b[1;32m<ipython-input-37-940d129f1840>\u001b[0m in \u001b[0;36m<module>\u001b[1;34m\u001b[0m\n\u001b[1;32m----> 1\u001b[1;33m \u001b[0malbum_raw\u001b[0m\u001b[1;33m.\u001b[0m\u001b[0mfind\u001b[0m\u001b[1;33m(\u001b[0m\u001b[1;34m'span'\u001b[0m\u001b[1;33m,\u001b[0m \u001b[1;33m{\u001b[0m\u001b[1;34m'class'\u001b[0m\u001b[1;33m:\u001b[0m\u001b[1;34m'bg_album_frame'\u001b[0m\u001b[1;33m}\u001b[0m\u001b[1;33m)\u001b[0m\u001b[1;33m[\u001b[0m\u001b[1;34m'onclick'\u001b[0m\u001b[1;33m]\u001b[0m\u001b[1;33m.\u001b[0m\u001b[0msplit\u001b[0m\u001b[1;33m(\u001b[0m\u001b[1;34m'('\u001b[0m\u001b[1;33m)\u001b[0m\u001b[1;33m[\u001b[0m\u001b[1;36m1\u001b[0m\u001b[1;33m]\u001b[0m\u001b[1;33m[\u001b[0m\u001b[1;36m1\u001b[0m\u001b[1;33m:\u001b[0m\u001b[1;36m9\u001b[0m\u001b[1;33m]\u001b[0m\u001b[1;33m\u001b[0m\u001b[1;33m\u001b[0m\u001b[0m\n\u001b[0m\u001b[0;32m      2\u001b[0m \u001b[0ma\u001b[0m\u001b[1;33m[\u001b[0m\u001b[1;36m0\u001b[0m\u001b[1;33m]\u001b[0m\u001b[1;33m.\u001b[0m\u001b[0mfind\u001b[0m\u001b[1;33m(\u001b[0m\u001b[1;34m'span'\u001b[0m\u001b[1;33m,\u001b[0m \u001b[1;33m{\u001b[0m\u001b[1;34m'class'\u001b[0m\u001b[1;33m:\u001b[0m\u001b[1;34m'bg_album_frame'\u001b[0m\u001b[1;33m}\u001b[0m\u001b[1;33m)\u001b[0m\u001b[1;33m[\u001b[0m\u001b[1;34m'onclick'\u001b[0m\u001b[1;33m]\u001b[0m\u001b[1;33m.\u001b[0m\u001b[0msplit\u001b[0m\u001b[1;33m(\u001b[0m\u001b[1;34m'('\u001b[0m\u001b[1;33m)\u001b[0m\u001b[1;33m[\u001b[0m\u001b[1;36m1\u001b[0m\u001b[1;33m]\u001b[0m\u001b[1;33m[\u001b[0m\u001b[1;36m1\u001b[0m\u001b[1;33m:\u001b[0m\u001b[1;36m9\u001b[0m\u001b[1;33m]\u001b[0m\u001b[1;33m\u001b[0m\u001b[1;33m\u001b[0m\u001b[0m\n",
      "\u001b[1;32mc:\\users\\gus26\\appdata\\local\\programs\\python\\python36\\lib\\site-packages\\bs4\\element.py\u001b[0m in \u001b[0;36m__getattr__\u001b[1;34m(self, key)\u001b[0m\n\u001b[0;32m   1618\u001b[0m     \u001b[1;32mdef\u001b[0m \u001b[0m__getattr__\u001b[0m\u001b[1;33m(\u001b[0m\u001b[0mself\u001b[0m\u001b[1;33m,\u001b[0m \u001b[0mkey\u001b[0m\u001b[1;33m)\u001b[0m\u001b[1;33m:\u001b[0m\u001b[1;33m\u001b[0m\u001b[1;33m\u001b[0m\u001b[0m\n\u001b[0;32m   1619\u001b[0m         raise AttributeError(\n\u001b[1;32m-> 1620\u001b[1;33m             \u001b[1;34m\"ResultSet object has no attribute '%s'. You're probably treating a list of items like a single item. Did you call find_all() when you meant to call find()?\"\u001b[0m \u001b[1;33m%\u001b[0m \u001b[0mkey\u001b[0m\u001b[1;33m\u001b[0m\u001b[1;33m\u001b[0m\u001b[0m\n\u001b[0m\u001b[0;32m   1621\u001b[0m         )\n",
      "\u001b[1;31mAttributeError\u001b[0m: ResultSet object has no attribute 'find'. You're probably treating a list of items like a single item. Did you call find_all() when you meant to call find()?"
     ]
    }
   ],
   "source": [
    "a[0].find('span', {'class':'bg_album_frame'})['onclick'].split('(')[1][1:9]"
   ]
  },
  {
   "cell_type": "code",
   "execution_count": 20,
   "metadata": {
    "scrolled": true
   },
   "outputs": [
    {
     "data": {
      "text/plain": [
       "[<dl class=\"list\">\n",
       " <dt>발매일</dt>\n",
       " <dd>2018.01.25</dd>\n",
       " <dt>장르</dt>\n",
       " <dd>랩/힙합</dd>\n",
       " <dt>발매사</dt>\n",
       " <dd>YG PLUS</dd>\n",
       " <dt>기획사</dt>\n",
       " <dd>(주)YG엔터테인먼트</dd>\n",
       " </dl>]"
      ]
     },
     "execution_count": 20,
     "metadata": {},
     "output_type": "execute_result"
    }
   ],
   "source": [
    "gen = soup.find_all('dl', {\"class\":\"list\"})\n",
    "gen"
   ]
  },
  {
   "cell_type": "code",
   "execution_count": 41,
   "metadata": {
    "scrolled": false
   },
   "outputs": [
    {
     "data": {
      "text/plain": [
       "'랩/힙합'"
      ]
     },
     "execution_count": 41,
     "metadata": {},
     "output_type": "execute_result"
    }
   ],
   "source": [
    "gen[0].find_all('dd')[1].text"
   ]
  },
  {
   "cell_type": "code",
   "execution_count": 125,
   "metadata": {
    "scrolled": true
   },
   "outputs": [],
   "source": [
    "a = soup_a.find_all('tr', {'class':'lst50'})"
   ]
  },
  {
   "cell_type": "code",
   "execution_count": 135,
   "metadata": {},
   "outputs": [
    {
     "data": {
      "text/plain": [
       "'10132945'"
      ]
     },
     "execution_count": 135,
     "metadata": {},
     "output_type": "execute_result"
    }
   ],
   "source": [
    "a[0].find('span', {'class':'bg_album_frame'})['onclick'].split('(')[1][1:9]"
   ]
  },
  {
   "cell_type": "code",
   "execution_count": 44,
   "metadata": {},
   "outputs": [],
   "source": [
    "html_a = driver.page_source\n",
    "soup_a = BeautifulSoup(html_a,'html.parser')"
   ]
  },
  {
   "cell_type": "code",
   "execution_count": 80,
   "metadata": {
    "scrolled": true
   },
   "outputs": [
    {
     "data": {
      "text/plain": [
       "[<div class=\"ellipsis rank01\"><span>\n",
       " <strong><a href=\"javascript:melon.play.playSong('19070206','30859584');\" title=\"사랑을 했다 (LOVE SCENARIO)\">사랑을 했다 (LOVE SCENARIO) </a></strong>\n",
       " </span></div>, <div class=\"ellipsis rank01\"><span>\n",
       " <strong><a href=\"javascript:melon.play.playSong('19070206','30755375');\" title=\"그날처럼\">그날처럼 </a></strong>\n",
       " </span></div>, <div class=\"ellipsis rank01\"><span>\n",
       " <strong><a href=\"javascript:melon.play.playSong('19070206','30962526');\" title=\"모든 날, 모든 순간 (Every day, Every Moment)\">모든 날, 모든 순간 (Every day, Every Moment) </a></strong>\n",
       " </span></div>, <div class=\"ellipsis rank01\"><span>\n",
       " <strong><a href=\"javascript:melon.play.playSong('19070206','30699142');\" title=\"지나오다\">지나오다 </a></strong>\n",
       " </span></div>, <div class=\"ellipsis rank01\"><span>\n",
       " <strong><a href=\"javascript:melon.play.playSong('19070206','30816860');\" title=\"뿜뿜\">뿜뿜 </a></strong>\n",
       " </span></div>, <div class=\"ellipsis rank01\"><span>\n",
       " <strong><a href=\"javascript:melon.play.playSong('19070206','31131273');\" title=\"뚜두뚜두 (DDU-DU DDU-DU)\">뚜두뚜두 (DDU-DU DDU-DU) </a></strong>\n",
       " </span></div>, <div class=\"ellipsis rank01\"><span>\n",
       " <strong><a href=\"javascript:melon.play.playSong('19070206','30514366');\" title=\"선물\">선물 </a></strong>\n",
       " </span></div>, <div class=\"ellipsis rank01\"><span>\n",
       " <strong><a href=\"javascript:melon.play.playSong('19070206','31151836');\" title=\"Way Back Home\">Way Back Home </a></strong>\n",
       " </span></div>, <div class=\"ellipsis rank01\"><span>\n",
       " <strong><a href=\"javascript:melon.play.playSong('19070206','30884950');\" title=\"그때 헤어지면 돼\">그때 헤어지면 돼 </a></strong>\n",
       " </span></div>, <div class=\"ellipsis rank01\"><span>\n",
       " <strong><a href=\"javascript:melon.play.playSong('19070206','31093710');\" title=\"여행\">여행 </a></strong>\n",
       " </span></div>, <div class=\"ellipsis rank01\"><span>\n",
       " <strong><a href=\"javascript:melon.play.playSong('19070206','30849733');\" title=\"You\">You </a></strong>\n",
       " </span></div>, <div class=\"ellipsis rank01\"><span>\n",
       " <strong><a href=\"javascript:melon.play.playSong('19070206','30937275');\" title=\"별이 빛나는 밤\">별이 빛나는 밤 </a></strong>\n",
       " </span></div>, <div class=\"ellipsis rank01\"><span>\n",
       " <strong><a href=\"javascript:melon.play.playSong('19070206','31035061');\" title=\"주지마\">주지마 </a></strong>\n",
       " </span></div>, <div class=\"ellipsis rank01\"><span>\n",
       " <strong><a href=\"javascript:melon.play.playSong('19070206','30844118');\" title=\"Roller Coaster\">Roller Coaster </a></strong>\n",
       " </span></div>, <div class=\"ellipsis rank01\"><span>\n",
       " <strong><a href=\"javascript:melon.play.playSong('19070206','30721801');\" title=\"My Way\">My Way </a></strong>\n",
       " </span></div>, <div class=\"ellipsis rank01\"><span>\n",
       " <strong><a href=\"javascript:melon.play.playSong('19070206','30637982');\" title=\"DNA\">DNA </a></strong>\n",
       " </span></div>, <div class=\"ellipsis rank01\"><span>\n",
       " <strong><a href=\"javascript:melon.play.playSong('19070206','30669593');\" title=\"가을 안부\">가을 안부 </a></strong>\n",
       " </span></div>, <div class=\"ellipsis rank01\"><span>\n",
       " <strong><a href=\"javascript:melon.play.playSong('19070206','31085237');\" title=\"FAKE LOVE\">FAKE LOVE </a></strong>\n",
       " </span></div>, <div class=\"ellipsis rank01\"><span>\n",
       " <strong><a href=\"javascript:melon.play.playSong('19070206','30244931');\" title=\"봄날\">봄날 </a></strong>\n",
       " </span></div>, <div class=\"ellipsis rank01\"><span>\n",
       " <strong><a href=\"javascript:melon.play.playSong('19070206','31175119');\" title=\"Dance The Night Away\">Dance The Night Away </a></strong>\n",
       " </span></div>, <div class=\"ellipsis rank01\"><span>\n",
       " <strong><a href=\"javascript:melon.play.playSong('19070206','30948698');\" title=\"꽃 길\">꽃 길 </a></strong>\n",
       " </span></div>, <div class=\"ellipsis rank01\"><span>\n",
       " <strong><a href=\"javascript:melon.play.playSong('19070206','30314784');\" title=\"밤편지\">밤편지 </a></strong>\n",
       " </span></div>, <div class=\"ellipsis rank01\"><span>\n",
       " <strong><a href=\"javascript:melon.play.playSong('19070206','31062863');\" title=\"열애중\">열애중 </a></strong>\n",
       " </span></div>, <div class=\"ellipsis rank01\"><span>\n",
       " <strong><a href=\"javascript:melon.play.playSong('19070206','30809895');\" title=\"미안해\">미안해 </a></strong>\n",
       " </span></div>, <div class=\"ellipsis rank01\"><span>\n",
       " <strong><a href=\"javascript:melon.play.playSong('19070206','30086173');\" title=\"비행운\">비행운 </a></strong>\n",
       " </span></div>, <div class=\"ellipsis rank01\"><span>\n",
       " <strong><a href=\"javascript:melon.play.playSong('19070206','31006730');\" title=\"What is Love?\">What is Love? </a></strong>\n",
       " </span></div>, <div class=\"ellipsis rank01\"><span>\n",
       " <strong><a href=\"javascript:melon.play.playSong('19070206','30806580');\" title=\"instagram\">instagram </a></strong>\n",
       " </span></div>, <div class=\"ellipsis rank01\"><span>\n",
       " <strong><a href=\"javascript:melon.play.playSong('19070206','30672529');\" title=\"그리워하다\">그리워하다 </a></strong>\n",
       " </span></div>, <div class=\"ellipsis rank01\"><span>\n",
       " <strong><a href=\"javascript:melon.play.playSong('19070206','30637776');\" title=\"이 별\">이 별 </a></strong>\n",
       " </span></div>, <div class=\"ellipsis rank01\"><span>\n",
       " <strong><a href=\"javascript:melon.play.playSong('19070206','30864993');\" title=\"Bad Boy\">Bad Boy </a></strong>\n",
       " </span></div>, <div class=\"ellipsis rank01\"><span>\n",
       " <strong><a href=\"javascript:melon.play.playSong('19070206','30659630');\" title=\"밤이 되니까\">밤이 되니까 </a></strong>\n",
       " </span></div>, <div class=\"ellipsis rank01\"><span>\n",
       " <strong><a href=\"javascript:melon.play.playSong('19070206','31131274');\" title=\"Forever Young\">Forever Young </a></strong>\n",
       " </span></div>, <div class=\"ellipsis rank01\"><span>\n",
       " <strong><a href=\"javascript:melon.play.playSong('19070206','30725482');\" title=\"Beautiful\">Beautiful </a></strong>\n",
       " </span></div>, <div class=\"ellipsis rank01\"><span>\n",
       " <strong><a href=\"javascript:melon.play.playSong('19070206','30781481');\" title=\"Heart Shaker\">Heart Shaker </a></strong>\n",
       " </span></div>, <div class=\"ellipsis rank01\"><span>\n",
       " <strong><a href=\"javascript:melon.play.playSong('19070206','31052421');\" title=\"밤 (Time for the moon night)\">밤 (Time for the moon night) </a></strong>\n",
       " </span></div>, <div class=\"ellipsis rank01\"><span>\n",
       " <strong><a href=\"javascript:melon.play.playSong('19070206','30568338');\" title=\"에너제틱 (Energetic)\">에너제틱 (Energetic) </a></strong>\n",
       " </span></div>, <div class=\"ellipsis rank01\"><span>\n",
       " <strong><a href=\"javascript:melon.play.playSong('19070206','30486509');\" title=\"좋니\">좋니 </a></strong>\n",
       " </span></div>, <div class=\"ellipsis rank01\"><span>\n",
       " <strong><a href=\"javascript:melon.play.playSong('19070206','31316695');\" title=\"하루도 그대를 사랑하지 않은 적이 없었다\">하루도 그대를 사랑하지 않은 적이 없었다 </a></strong>\n",
       " </span></div>, <div class=\"ellipsis rank01\"><span>\n",
       " <strong><a href=\"javascript:melon.play.playSong('19070206','30829858');\" title=\"#첫사랑\">#첫사랑 </a></strong>\n",
       " </span></div>, <div class=\"ellipsis rank01\"><span>\n",
       " <strong><a href=\"javascript:melon.play.playSong('19070206','31019584');\" title=\"붕붕 (Feat. 식케이) (Prod. GroovyRoom)\">붕붕 (Feat. 식케이) (Prod. GroovyRoom) </a></strong>\n",
       " </span></div>, <div class=\"ellipsis rank01\"><span>\n",
       " <strong><a href=\"javascript:melon.play.playSong('19070206','30970444');\" title=\"소나기 (Feat. 10cm)\">소나기 (Feat. 10cm) </a></strong>\n",
       " </span></div>, <div class=\"ellipsis rank01\"><span>\n",
       " <strong><a href=\"javascript:melon.play.playSong('19070206','30492279');\" title=\"비도 오고 그래서 (Feat. 신용재)\">비도 오고 그래서 (Feat. 신용재) </a></strong>\n",
       " </span></div>, <div class=\"ellipsis rank01\"><span>\n",
       " <strong><a href=\"javascript:melon.play.playSong('19070206','31161280');\" title=\"1도 없어\">1도 없어 </a></strong>\n",
       " </span></div>, <div class=\"ellipsis rank01\"><span>\n",
       " <strong><a href=\"javascript:melon.play.playSong('19070206','30806536');\" title=\"Universe\">Universe </a></strong>\n",
       " </span></div>, <div class=\"ellipsis rank01\"><span>\n",
       " <strong><a href=\"javascript:melon.play.playSong('19070206','31133898');\" title=\"너 없인 안 된다\">너 없인 안 된다 </a></strong>\n",
       " </span></div>, <div class=\"ellipsis rank01\"><span>\n",
       " <strong><a href=\"javascript:melon.play.playSong('19070206','31346009');\" title=\"삐삐\">삐삐 </a></strong>\n",
       " </span></div>, <div class=\"ellipsis rank01\"><span>\n",
       " <strong><a href=\"javascript:melon.play.playSong('19070206','30550388');\" title=\"all of my life\">all of my life </a></strong>\n",
       " </span></div>, <div class=\"ellipsis rank01\"><span>\n",
       " <strong><a href=\"javascript:melon.play.playSong('19070206','9642570');\" title=\"넋두리\">넋두리 </a></strong>\n",
       " </span></div>, <div class=\"ellipsis rank01\"><span>\n",
       " <strong><a href=\"javascript:melon.play.playSong('19070206','31189241');\" title=\"너나 해 (Egotistic)\">너나 해 (Egotistic) </a></strong>\n",
       " </span></div>, <div class=\"ellipsis rank01\"><span>\n",
       " <strong><a href=\"javascript:melon.play.playSong('19070206','30838076');\" title=\"주인공\">주인공 </a></strong>\n",
       " </span></div>, <div class=\"ellipsis rank01\"><span>\n",
       " <strong><a href=\"javascript:melon.play.playSong('19070206','31314144');\" title=\"가을 타나 봐\">가을 타나 봐 </a></strong>\n",
       " </span></div>, <div class=\"ellipsis rank01\"><span>\n",
       " <strong><a href=\"javascript:melon.play.playSong('19070206','31164090');\" title=\"동화\">동화 </a></strong>\n",
       " </span></div>, <div class=\"ellipsis rank01\"><span>\n",
       " <strong><a href=\"javascript:melon.play.playSong('19070206','8235260');\" title=\"비\">비 </a></strong>\n",
       " </span></div>, <div class=\"ellipsis rank01\"><span>\n",
       " <strong><a href=\"javascript:melon.play.playSong('19070206','30939452');\" title=\"Jenga (Feat. Gaeko)\">Jenga (Feat. Gaeko) </a></strong>\n",
       " </span></div>, <div class=\"ellipsis rank01\"><span>\n",
       " <strong><a href=\"javascript:melon.play.playSong('19070206','30960341');\" title=\"BOOMERANG (부메랑)\">BOOMERANG (부메랑) </a></strong>\n",
       " </span></div>, <div class=\"ellipsis rank01\"><span>\n",
       " <strong><a href=\"javascript:melon.play.playSong('19070206','30613202');\" title=\"시차 (We Are) (Feat. 로꼬 &amp; GRAY)\">시차 (We Are) (Feat. 로꼬 &amp; GRAY) </a></strong>\n",
       " </span></div>, <div class=\"ellipsis rank01\"><span>\n",
       " <strong><a href=\"javascript:melon.play.playSong('19070206','30512671');\" title=\"빨간 맛 (Red Flavor)\">빨간 맛 (Red Flavor) </a></strong>\n",
       " </span></div>, <div class=\"ellipsis rank01\"><span>\n",
       " <strong><a href=\"javascript:melon.play.playSong('19070206','31286161');\" title=\"사이렌 (Siren)\">사이렌 (Siren) </a></strong>\n",
       " </span></div>, <div class=\"ellipsis rank01\"><span>\n",
       " <strong><a href=\"javascript:melon.play.playSong('19070206','31230093');\" title=\"Power Up\">Power Up </a></strong>\n",
       " </span></div>, <div class=\"ellipsis rank01\"><span>\n",
       " <strong><a href=\"javascript:melon.play.playSong('19070206','30877002');\" title=\"눈사람\">눈사람 </a></strong>\n",
       " </span></div>, <div class=\"ellipsis rank01\"><span>\n",
       " <strong><a href=\"javascript:melon.play.playSong('19070206','31085238');\" title=\"전하지 못한 진심 (Feat. Steve Aoki)\">전하지 못한 진심 (Feat. Steve Aoki) </a></strong>\n",
       " </span></div>, <div class=\"ellipsis rank01\"><span>\n",
       " <strong><a href=\"javascript:melon.play.playSong('19070206','30700708');\" title=\"LIKEY\">LIKEY </a></strong>\n",
       " </span></div>, <div class=\"ellipsis rank01\"><span>\n",
       " <strong><a href=\"javascript:melon.play.playSong('19070206','30481578');\" title=\"마지막처럼\">마지막처럼 </a></strong>\n",
       " </span></div>, <div class=\"ellipsis rank01\"><span>\n",
       " <strong><a href=\"javascript:melon.play.playSong('19070206','30997649');\" title=\"EVERYDAY\">EVERYDAY </a></strong>\n",
       " </span></div>, <div class=\"ellipsis rank01\"><span>\n",
       " <strong><a href=\"javascript:melon.play.playSong('19070206','30690674');\" title=\"눈 떠보니 이별이더라\">눈 떠보니 이별이더라 </a></strong>\n",
       " </span></div>, <div class=\"ellipsis rank01\"><span>\n",
       " <strong><a href=\"javascript:melon.play.playSong('19070206','30190630');\" title=\"첫눈처럼 너에게 가겠다\">첫눈처럼 너에게 가겠다 </a></strong>\n",
       " </span></div>, <div class=\"ellipsis rank01\"><span>\n",
       " <strong><a href=\"javascript:melon.play.playSong('19070206','30989550');\" title=\"바코드 (Prod. GroovyRoom)\">바코드 (Prod. GroovyRoom) </a></strong>\n",
       " </span></div>, <div class=\"ellipsis rank01\"><span>\n",
       " <strong><a href=\"javascript:melon.play.playSong('19070206','31302310');\" title=\"헤어지는 중\">헤어지는 중 </a></strong>\n",
       " </span></div>, <div class=\"ellipsis rank01\"><span>\n",
       " <strong><a href=\"javascript:melon.play.playSong('19070206','31266290');\" title=\"IDOL\">IDOL </a></strong>\n",
       " </span></div>, <div class=\"ellipsis rank01\"><span>\n",
       " <strong><a href=\"javascript:melon.play.playSong('19070206','31215747');\" title=\"SoulMate (Feat. 아이유)\">SoulMate (Feat. 아이유) </a></strong>\n",
       " </span></div>, <div class=\"ellipsis rank01\"><span>\n",
       " <strong><a href=\"javascript:melon.play.playSong('19070206','31314142');\" title=\"우리 그만하자\">우리 그만하자 </a></strong>\n",
       " </span></div>, <div class=\"ellipsis rank01\"><span>\n",
       " <strong><a href=\"javascript:melon.play.playSong('19070206','30930312');\" title=\"약속해요 (I.P.U.)\">약속해요 (I.P.U.) </a></strong>\n",
       " </span></div>, <div class=\"ellipsis rank01\"><span>\n",
       " <strong><a href=\"javascript:melon.play.playSong('19070206','31388145');\" title=\"너를 만나\">너를 만나 </a></strong>\n",
       " </span></div>, <div class=\"ellipsis rank01\"><span>\n",
       " <strong><a href=\"javascript:melon.play.playSong('19070206','30757693');\" title=\"기억의 빈자리\">기억의 빈자리 </a></strong>\n",
       " </span></div>, <div class=\"ellipsis rank01\"><span>\n",
       " <strong><a href=\"javascript:melon.play.playSong('19070206','30657307');\" title=\"썸 탈꺼야\">썸 탈꺼야 </a></strong>\n",
       " </span></div>, <div class=\"ellipsis rank01\"><span>\n",
       " <strong><a href=\"javascript:melon.play.playSong('19070206','30099927');\" title=\"노력\">노력 </a></strong>\n",
       " </span></div>, <div class=\"ellipsis rank01\"><span>\n",
       " <strong><a href=\"javascript:melon.play.playSong('19070206','30341745');\" title=\"REALLY REALLY\">REALLY REALLY </a></strong>\n",
       " </span></div>, <div class=\"ellipsis rank01\"><span>\n",
       " <strong><a href=\"javascript:melon.play.playSong('19070206','30729198');\" title=\"좋아\">좋아 </a></strong>\n",
       " </span></div>, <div class=\"ellipsis rank01\"><span>\n",
       " <strong><a href=\"javascript:melon.play.playSong('19070206','30736437');\" title=\"피카부 (Peek-A-Boo)\">피카부 (Peek-A-Boo) </a></strong>\n",
       " </span></div>, <div class=\"ellipsis rank01\"><span>\n",
       " <strong><a href=\"javascript:melon.play.playSong('19070206','31098083');\" title=\"빙글뱅글 (Bingle Bangle)\">빙글뱅글 (Bingle Bangle) </a></strong>\n",
       " </span></div>, <div class=\"ellipsis rank01\"><span>\n",
       " <strong><a href=\"javascript:melon.play.playSong('19070206','30957524');\" title=\"북 (Prod. SLO)\">북 (Prod. SLO) </a></strong>\n",
       " </span></div>, <div class=\"ellipsis rank01\"><span>\n",
       " <strong><a href=\"javascript:melon.play.playSong('19070206','31340985');\" title=\"Good Day (Feat. 팔로알토) (Prod. 코드 쿤스트)\">Good Day (Feat. 팔로알토) (Prod. 코드 쿤스트) </a></strong>\n",
       " </span></div>, <div class=\"ellipsis rank01\"><span>\n",
       " <strong><a href=\"javascript:melon.play.playSong('19070206','31055324');\" title=\"LATATA\">LATATA </a></strong>\n",
       " </span></div>, <div class=\"ellipsis rank01\"><span>\n",
       " <strong><a href=\"javascript:melon.play.playSong('19070206','31356458');\" title=\"고백\">고백 </a></strong>\n",
       " </span></div>, <div class=\"ellipsis rank01\"><span>\n",
       " <strong><a href=\"javascript:melon.play.playSong('19070206','30833270');\" title=\"답장\">답장 </a></strong>\n",
       " </span></div>, <div class=\"ellipsis rank01\"><span>\n",
       " <strong><a href=\"javascript:melon.play.playSong('19070206','31417871');\" title=\"SOLO\">SOLO </a></strong>\n",
       " </span></div>, <div class=\"ellipsis rank01\"><span>\n",
       " <strong><a href=\"javascript:melon.play.playSong('19070206','31085244');\" title=\"Anpanman\">Anpanman </a></strong>\n",
       " </span></div>, <div class=\"ellipsis rank01\"><span>\n",
       " <strong><a href=\"javascript:melon.play.playSong('19070206','30667988');\" title=\"짙어져\">짙어져 </a></strong>\n",
       " </span></div>, <div class=\"ellipsis rank01\"><span>\n",
       " <strong><a href=\"javascript:melon.play.playSong('19070206','31113240');\" title=\"켜줘 (Light)\">켜줘 (Light) </a></strong>\n",
       " </span></div>, <div class=\"ellipsis rank01\"><span>\n",
       " <strong><a href=\"javascript:melon.play.playSong('19070206','30709103');\" title=\"그때의 나, 그때의 우리\">그때의 나, 그때의 우리 </a></strong>\n",
       " </span></div>, <div class=\"ellipsis rank01\"><span>\n",
       " <strong><a href=\"javascript:melon.play.playSong('19070206','31199873');\" title=\"셋 셀테니 (1, 2, 3!)\">셋 셀테니 (1, 2, 3!) </a></strong>\n",
       " </span></div>, <div class=\"ellipsis rank01\"><span>\n",
       " <strong><a href=\"javascript:melon.play.playSong('19070206','31046548');\" title=\"욕심\">욕심 </a></strong>\n",
       " </span></div>, <div class=\"ellipsis rank01\"><span>\n",
       " <strong><a href=\"javascript:melon.play.playSong('19070206','30383758');\" title=\"Lonely (Feat. 태연)\">Lonely (Feat. 태연) </a></strong>\n",
       " </span></div>, <div class=\"ellipsis rank01\"><span>\n",
       " <strong><a href=\"javascript:melon.play.playSong('19070206','31009483');\" title=\"花요일 (Blooming Day)\">花요일 (Blooming Day) </a></strong>\n",
       " </span></div>, <div class=\"ellipsis rank01\"><span>\n",
       " <strong><a href=\"javascript:melon.play.playSong('19070206','4383833');\" title=\"바람이 불었으면 좋겠어\">바람이 불었으면 좋겠어 </a></strong>\n",
       " </span></div>, <div class=\"ellipsis rank01\"><span>\n",
       " <strong><a href=\"javascript:melon.play.playSong('19070206','31344113');\" title=\"시간이 들겠지 (Feat. Colde)\">시간이 들겠지 (Feat. Colde) </a></strong>\n",
       " </span></div>, <div class=\"ellipsis rank01\"><span>\n",
       " <strong><a href=\"javascript:melon.play.playSong('19070206','31219546');\" title=\"flex (Prod. By 기리보이)\">flex (Prod. By 기리보이) </a></strong>\n",
       " </span></div>, <div class=\"ellipsis rank01\"><span>\n",
       " <strong><a href=\"javascript:melon.play.playSong('19070206','31403163');\" title=\"YES or YES\">YES or YES </a></strong>\n",
       " </span></div>, <div class=\"ellipsis rank01\"><span>\n",
       " <strong><a href=\"javascript:melon.play.playSong('19070206','30753213');\" title=\"바보야\">바보야 </a></strong>\n",
       " </span></div>, <div class=\"ellipsis rank01\"><span>\n",
       " <strong><a href=\"javascript:melon.play.playSong('19070206','30587846');\" title=\"가시나\">가시나 </a></strong>\n",
       " </span></div>]"
      ]
     },
     "execution_count": 80,
     "metadata": {},
     "output_type": "execute_result"
    }
   ],
   "source": [
    "name = soup_a.find_all('div', {'class':'ellipsis rank01'})\n",
    "name"
   ]
  },
  {
   "cell_type": "code",
   "execution_count": 81,
   "metadata": {},
   "outputs": [
    {
     "data": {
      "text/plain": [
       "'사랑을 했다 (LOVE SCENARIO)'"
      ]
     },
     "execution_count": 81,
     "metadata": {},
     "output_type": "execute_result"
    }
   ],
   "source": [
    "name[0].find('a')['title']"
   ]
  },
  {
   "cell_type": "code",
   "execution_count": 82,
   "metadata": {},
   "outputs": [
    {
     "data": {
      "text/plain": [
       "[<div class=\"ellipsis rank02\"><a class=\"fc_mgray\" href=\"javascript:melon.link.goArtistDetail('895741');\" title=\"iKON - 페이지 이동\">iKON</a><span class=\"checkEllipsis\" style=\"display: none;\"><a class=\"fc_mgray\" href=\"javascript:melon.link.goArtistDetail('895741');\" title=\"iKON - 페이지 이동\">iKON</a></span></div>,\n",
       " <div class=\"ellipsis rank02\"><a class=\"fc_mgray\" href=\"javascript:melon.link.goArtistDetail('829211');\" title=\"장덕철 - 페이지 이동\">장덕철</a><span class=\"checkEllipsis\" style=\"display: none;\"><a class=\"fc_mgray\" href=\"javascript:melon.link.goArtistDetail('829211');\" title=\"장덕철 - 페이지 이동\">장덕철</a></span></div>,\n",
       " <div class=\"ellipsis rank02\"><a class=\"fc_mgray\" href=\"javascript:melon.link.goArtistDetail('752425');\" title=\"폴킴 - 페이지 이동\">폴킴</a><span class=\"checkEllipsis\" style=\"display: none;\"><a class=\"fc_mgray\" href=\"javascript:melon.link.goArtistDetail('752425');\" title=\"폴킴 - 페이지 이동\">폴킴</a></span></div>,\n",
       " <div class=\"ellipsis rank02\"><a class=\"fc_mgray\" href=\"javascript:melon.link.goArtistDetail('896096');\" title=\"닐로 (Nilo) - 페이지 이동\">닐로 (Nilo)</a><span class=\"checkEllipsis\" style=\"display: none;\"><a class=\"fc_mgray\" href=\"javascript:melon.link.goArtistDetail('896096');\" title=\"닐로 (Nilo) - 페이지 이동\">닐로 (Nilo)</a></span></div>,\n",
       " <div class=\"ellipsis rank02\"><a class=\"fc_mgray\" href=\"javascript:melon.link.goArtistDetail('1221596');\" title=\"모모랜드 (MOMOLAND) - 페이지 이동\">모모랜드 (MOMOLAND)</a><span class=\"checkEllipsis\" style=\"display: none;\"><a class=\"fc_mgray\" href=\"javascript:melon.link.goArtistDetail('1221596');\" title=\"모모랜드 (MOMOLAND) - 페이지 이동\">모모랜드 (MOMOLAND)</a></span></div>,\n",
       " <div class=\"ellipsis rank02\"><a class=\"fc_mgray\" href=\"javascript:melon.link.goArtistDetail('995169');\" title=\"BLACKPINK - 페이지 이동\">BLACKPINK</a><span class=\"checkEllipsis\" style=\"display: none;\"><a class=\"fc_mgray\" href=\"javascript:melon.link.goArtistDetail('995169');\" title=\"BLACKPINK - 페이지 이동\">BLACKPINK</a></span></div>,\n",
       " <div class=\"ellipsis rank02\"><a class=\"fc_mgray\" href=\"javascript:melon.link.goArtistDetail('839732');\" title=\"멜로망스 - 페이지 이동\">멜로망스</a><span class=\"checkEllipsis\" style=\"display: none;\"><a class=\"fc_mgray\" href=\"javascript:melon.link.goArtistDetail('839732');\" title=\"멜로망스 - 페이지 이동\">멜로망스</a></span></div>,\n",
       " <div class=\"ellipsis rank02\"><a class=\"fc_mgray\" href=\"javascript:melon.link.goArtistDetail('510242');\" title=\"숀 (SHAUN) - 페이지 이동\">숀 (SHAUN)</a><span class=\"checkEllipsis\" style=\"display: none;\"><a class=\"fc_mgray\" href=\"javascript:melon.link.goArtistDetail('510242');\" title=\"숀 (SHAUN) - 페이지 이동\">숀 (SHAUN)</a></span></div>,\n",
       " <div class=\"ellipsis rank02\"><a class=\"fc_mgray\" href=\"javascript:melon.link.goArtistDetail('699632');\" title=\"로이킴 - 페이지 이동\">로이킴</a><span class=\"checkEllipsis\" style=\"display: none;\"><a class=\"fc_mgray\" href=\"javascript:melon.link.goArtistDetail('699632');\" title=\"로이킴 - 페이지 이동\">로이킴</a></span></div>,\n",
       " <div class=\"ellipsis rank02\"><a class=\"fc_mgray\" href=\"javascript:melon.link.goArtistDetail('792022');\" title=\"볼빨간사춘기 - 페이지 이동\">볼빨간사춘기</a><span class=\"checkEllipsis\" style=\"display: none;\"><a class=\"fc_mgray\" href=\"javascript:melon.link.goArtistDetail('792022');\" title=\"볼빨간사춘기 - 페이지 이동\">볼빨간사춘기</a></span></div>,\n",
       " <div class=\"ellipsis rank02\"><a class=\"fc_mgray\" href=\"javascript:melon.link.goArtistDetail('839732');\" title=\"멜로망스 - 페이지 이동\">멜로망스</a><span class=\"checkEllipsis\" style=\"display: none;\"><a class=\"fc_mgray\" href=\"javascript:melon.link.goArtistDetail('839732');\" title=\"멜로망스 - 페이지 이동\">멜로망스</a></span></div>,\n",
       " <div class=\"ellipsis rank02\"><a class=\"fc_mgray\" href=\"javascript:melon.link.goArtistDetail('750053');\" title=\"마마무(Mamamoo) - 페이지 이동\">마마무(Mamamoo)</a><span class=\"checkEllipsis\" style=\"display: none;\"><a class=\"fc_mgray\" href=\"javascript:melon.link.goArtistDetail('750053');\" title=\"마마무(Mamamoo) - 페이지 이동\">마마무(Mamamoo)</a></span></div>,\n",
       " <div class=\"ellipsis rank02\"><a class=\"fc_mgray\" href=\"javascript:melon.link.goArtistDetail('688432');\" title=\"로꼬 - 페이지 이동\">로꼬</a>, <a class=\"fc_mgray\" href=\"javascript:melon.link.goArtistDetail('756531');\" title=\"화사(Hwa Sa) - 페이지 이동\">화사(Hwa Sa)</a><span class=\"checkEllipsis\" style=\"display: none;\"><a class=\"fc_mgray\" href=\"javascript:melon.link.goArtistDetail('688432');\" title=\"로꼬 - 페이지 이동\">로꼬</a>, <a class=\"fc_mgray\" href=\"javascript:melon.link.goArtistDetail('756531');\" title=\"화사(Hwa Sa) - 페이지 이동\">화사(Hwa Sa)</a></span></div>,\n",
       " <div class=\"ellipsis rank02\"><a class=\"fc_mgray\" href=\"javascript:melon.link.goArtistDetail('968265');\" title=\"청하 - 페이지 이동\">청하</a><span class=\"checkEllipsis\" style=\"display: none;\"><a class=\"fc_mgray\" href=\"javascript:melon.link.goArtistDetail('968265');\" title=\"청하 - 페이지 이동\">청하</a></span></div>,\n",
       " <div class=\"ellipsis rank02\"><a class=\"fc_mgray\" href=\"javascript:melon.link.goArtistDetail('214784');\" title=\"이수 (엠씨 더 맥스) - 페이지 이동\">이수 (엠씨 더 맥스)</a><span class=\"checkEllipsis\" style=\"display: none;\"><a class=\"fc_mgray\" href=\"javascript:melon.link.goArtistDetail('214784');\" title=\"이수 (엠씨 더 맥스) - 페이지 이동\">이수 (엠씨 더 맥스)</a></span></div>,\n",
       " <div class=\"ellipsis rank02\"><a class=\"fc_mgray\" href=\"javascript:melon.link.goArtistDetail('672375');\" title=\"방탄소년단 - 페이지 이동\">방탄소년단</a><span class=\"checkEllipsis\" style=\"display: none;\"><a class=\"fc_mgray\" href=\"javascript:melon.link.goArtistDetail('672375');\" title=\"방탄소년단 - 페이지 이동\">방탄소년단</a></span></div>,\n",
       " <div class=\"ellipsis rank02\"><a class=\"fc_mgray\" href=\"javascript:melon.link.goArtistDetail('175155');\" title=\"먼데이 키즈 (Monday Kiz) - 페이지 이동\">먼데이 키즈 (Monday Kiz)</a><span class=\"checkEllipsis\" style=\"display: none;\"><a class=\"fc_mgray\" href=\"javascript:melon.link.goArtistDetail('175155');\" title=\"먼데이 키즈 (Monday Kiz) - 페이지 이동\">먼데이 키즈 (Monday Kiz)</a></span></div>,\n",
       " <div class=\"ellipsis rank02\"><a class=\"fc_mgray\" href=\"javascript:melon.link.goArtistDetail('672375');\" title=\"방탄소년단 - 페이지 이동\">방탄소년단</a><span class=\"checkEllipsis\" style=\"display: none;\"><a class=\"fc_mgray\" href=\"javascript:melon.link.goArtistDetail('672375');\" title=\"방탄소년단 - 페이지 이동\">방탄소년단</a></span></div>,\n",
       " <div class=\"ellipsis rank02\"><a class=\"fc_mgray\" href=\"javascript:melon.link.goArtistDetail('672375');\" title=\"방탄소년단 - 페이지 이동\">방탄소년단</a><span class=\"checkEllipsis\" style=\"display: none;\"><a class=\"fc_mgray\" href=\"javascript:melon.link.goArtistDetail('672375');\" title=\"방탄소년단 - 페이지 이동\">방탄소년단</a></span></div>,\n",
       " <div class=\"ellipsis rank02\"><a class=\"fc_mgray\" href=\"javascript:melon.link.goArtistDetail('905701');\" title=\"TWICE (트와이스) - 페이지 이동\">TWICE (트와이스)</a><span class=\"checkEllipsis\" style=\"display: none;\"><a class=\"fc_mgray\" href=\"javascript:melon.link.goArtistDetail('905701');\" title=\"TWICE (트와이스) - 페이지 이동\">TWICE (트와이스)</a></span></div>,\n",
       " <div class=\"ellipsis rank02\"><a class=\"fc_mgray\" href=\"javascript:melon.link.goArtistDetail('198094');\" title=\"BIGBANG - 페이지 이동\">BIGBANG</a><span class=\"checkEllipsis\" style=\"display: none;\"><a class=\"fc_mgray\" href=\"javascript:melon.link.goArtistDetail('198094');\" title=\"BIGBANG - 페이지 이동\">BIGBANG</a></span></div>,\n",
       " <div class=\"ellipsis rank02\"><a class=\"fc_mgray\" href=\"javascript:melon.link.goArtistDetail('261143');\" title=\"아이유 - 페이지 이동\">아이유</a><span class=\"checkEllipsis\" style=\"display: none;\"><a class=\"fc_mgray\" href=\"javascript:melon.link.goArtistDetail('261143');\" title=\"아이유 - 페이지 이동\">아이유</a></span></div>,\n",
       " <div class=\"ellipsis rank02\"><a class=\"fc_mgray\" href=\"javascript:melon.link.goArtistDetail('655051');\" title=\"벤 - 페이지 이동\">벤</a><span class=\"checkEllipsis\" style=\"display: none;\"><a class=\"fc_mgray\" href=\"javascript:melon.link.goArtistDetail('655051');\" title=\"벤 - 페이지 이동\">벤</a></span></div>,\n",
       " <div class=\"ellipsis rank02\"><a class=\"fc_mgray\" href=\"javascript:melon.link.goArtistDetail('695994');\" title=\"양다일 - 페이지 이동\">양다일</a><span class=\"checkEllipsis\" style=\"display: none;\"><a class=\"fc_mgray\" href=\"javascript:melon.link.goArtistDetail('695994');\" title=\"양다일 - 페이지 이동\">양다일</a></span></div>,\n",
       " <div class=\"ellipsis rank02\"><a class=\"fc_mgray\" href=\"javascript:melon.link.goArtistDetail('927668');\" title=\"문문 (MoonMoon) - 페이지 이동\">문문 (MoonMoon)</a><span class=\"checkEllipsis\" style=\"display: none;\"><a class=\"fc_mgray\" href=\"javascript:melon.link.goArtistDetail('927668');\" title=\"문문 (MoonMoon) - 페이지 이동\">문문 (MoonMoon)</a></span></div>,\n",
       " <div class=\"ellipsis rank02\"><a class=\"fc_mgray\" href=\"javascript:melon.link.goArtistDetail('905701');\" title=\"TWICE (트와이스) - 페이지 이동\">TWICE (트와이스)</a><span class=\"checkEllipsis\" style=\"display: none;\"><a class=\"fc_mgray\" href=\"javascript:melon.link.goArtistDetail('905701');\" title=\"TWICE (트와이스) - 페이지 이동\">TWICE (트와이스)</a></span></div>,\n",
       " <div class=\"ellipsis rank02\"><a class=\"fc_mgray\" href=\"javascript:melon.link.goArtistDetail('880630');\" title=\"DEAN - 페이지 이동\">DEAN</a><span class=\"checkEllipsis\" style=\"display: none;\"><a class=\"fc_mgray\" href=\"javascript:melon.link.goArtistDetail('880630');\" title=\"DEAN - 페이지 이동\">DEAN</a></span></div>,\n",
       " <div class=\"ellipsis rank02\"><a class=\"fc_mgray\" href=\"javascript:melon.link.goArtistDetail('647971');\" title=\"비투비 - 페이지 이동\">비투비</a><span class=\"checkEllipsis\" style=\"display: none;\"><a class=\"fc_mgray\" href=\"javascript:melon.link.goArtistDetail('647971');\" title=\"비투비 - 페이지 이동\">비투비</a></span></div>,\n",
       " <div class=\"ellipsis rank02\"><a class=\"fc_mgray\" href=\"javascript:melon.link.goArtistDetail('500421');\" title=\"길구봉구 - 페이지 이동\">길구봉구</a><span class=\"checkEllipsis\" style=\"display: none;\"><a class=\"fc_mgray\" href=\"javascript:melon.link.goArtistDetail('500421');\" title=\"길구봉구 - 페이지 이동\">길구봉구</a></span></div>,\n",
       " <div class=\"ellipsis rank02\"><a class=\"fc_mgray\" href=\"javascript:melon.link.goArtistDetail('780066');\" title=\"Red Velvet (레드벨벳) - 페이지 이동\">Red Velvet (레드벨벳)</a><span class=\"checkEllipsis\" style=\"display: none;\"><a class=\"fc_mgray\" href=\"javascript:melon.link.goArtistDetail('780066');\" title=\"Red Velvet (레드벨벳) - 페이지 이동\">Red Velvet (레드벨벳)</a></span></div>,\n",
       " <div class=\"ellipsis rank02\"><a class=\"fc_mgray\" href=\"javascript:melon.link.goArtistDetail('749640');\" title=\"펀치 (Punch) - 페이지 이동\">펀치 (Punch)</a><span class=\"checkEllipsis\" style=\"display: none;\"><a class=\"fc_mgray\" href=\"javascript:melon.link.goArtistDetail('749640');\" title=\"펀치 (Punch) - 페이지 이동\">펀치 (Punch)</a></span></div>,\n",
       " <div class=\"ellipsis rank02\"><a class=\"fc_mgray\" href=\"javascript:melon.link.goArtistDetail('995169');\" title=\"BLACKPINK - 페이지 이동\">BLACKPINK</a><span class=\"checkEllipsis\" style=\"display: none;\"><a class=\"fc_mgray\" href=\"javascript:melon.link.goArtistDetail('995169');\" title=\"BLACKPINK - 페이지 이동\">BLACKPINK</a></span></div>,\n",
       " <div class=\"ellipsis rank02\"><a class=\"fc_mgray\" href=\"javascript:melon.link.goArtistDetail('1865973');\" title=\"Wanna One (워너원) - 페이지 이동\">Wanna One (워너원)</a><span class=\"checkEllipsis\" style=\"display: none;\"><a class=\"fc_mgray\" href=\"javascript:melon.link.goArtistDetail('1865973');\" title=\"Wanna One (워너원) - 페이지 이동\">Wanna One (워너원)</a></span></div>,\n",
       " <div class=\"ellipsis rank02\"><a class=\"fc_mgray\" href=\"javascript:melon.link.goArtistDetail('905701');\" title=\"TWICE (트와이스) - 페이지 이동\">TWICE (트와이스)</a><span class=\"checkEllipsis\" style=\"display: none;\"><a class=\"fc_mgray\" href=\"javascript:melon.link.goArtistDetail('905701');\" title=\"TWICE (트와이스) - 페이지 이동\">TWICE (트와이스)</a></span></div>,\n",
       " <div class=\"ellipsis rank02\"><a class=\"fc_mgray\" href=\"javascript:melon.link.goArtistDetail('828478');\" title=\"여자친구 (GFRIEND) - 페이지 이동\">여자친구 (GFRIEND)</a><span class=\"checkEllipsis\" style=\"display: none;\"><a class=\"fc_mgray\" href=\"javascript:melon.link.goArtistDetail('828478');\" title=\"여자친구 (GFRIEND) - 페이지 이동\">여자친구 (GFRIEND)</a></span></div>,\n",
       " <div class=\"ellipsis rank02\"><a class=\"fc_mgray\" href=\"javascript:melon.link.goArtistDetail('1865973');\" title=\"Wanna One (워너원) - 페이지 이동\">Wanna One (워너원)</a><span class=\"checkEllipsis\" style=\"display: none;\"><a class=\"fc_mgray\" href=\"javascript:melon.link.goArtistDetail('1865973');\" title=\"Wanna One (워너원) - 페이지 이동\">Wanna One (워너원)</a></span></div>,\n",
       " <div class=\"ellipsis rank02\"><a class=\"fc_mgray\" href=\"javascript:melon.link.goArtistDetail('437');\" title=\"윤종신 - 페이지 이동\">윤종신</a><span class=\"checkEllipsis\" style=\"display: none;\"><a class=\"fc_mgray\" href=\"javascript:melon.link.goArtistDetail('437');\" title=\"윤종신 - 페이지 이동\">윤종신</a></span></div>,\n",
       " <div class=\"ellipsis rank02\"><a class=\"fc_mgray\" href=\"javascript:melon.link.goArtistDetail('1142');\" title=\"임창정 - 페이지 이동\">임창정</a><span class=\"checkEllipsis\" style=\"display: none;\"><a class=\"fc_mgray\" href=\"javascript:melon.link.goArtistDetail('1142');\" title=\"임창정 - 페이지 이동\">임창정</a></span></div>,\n",
       " <div class=\"ellipsis rank02\"><a class=\"fc_mgray\" href=\"javascript:melon.link.goArtistDetail('792022');\" title=\"볼빨간사춘기 - 페이지 이동\">볼빨간사춘기</a><span class=\"checkEllipsis\" style=\"display: none;\"><a class=\"fc_mgray\" href=\"javascript:melon.link.goArtistDetail('792022');\" title=\"볼빨간사춘기 - 페이지 이동\">볼빨간사춘기</a></span></div>,\n",
       " <div class=\"ellipsis rank02\"><a class=\"fc_mgray\" href=\"javascript:melon.link.goArtistDetail('2112493');\" title=\"HAON (김하온) - 페이지 이동\">HAON (김하온)</a><span class=\"checkEllipsis\" style=\"display: none;\"><a class=\"fc_mgray\" href=\"javascript:melon.link.goArtistDetail('2112493');\" title=\"HAON (김하온) - 페이지 이동\">HAON (김하온)</a></span></div>,\n",
       " <div class=\"ellipsis rank02\"><a class=\"fc_mgray\" href=\"javascript:melon.link.goArtistDetail('243232');\" title=\"용준형 - 페이지 이동\">용준형</a><span class=\"checkEllipsis\" style=\"display: none;\"><a class=\"fc_mgray\" href=\"javascript:melon.link.goArtistDetail('243232');\" title=\"용준형 - 페이지 이동\">용준형</a></span></div>,\n",
       " <div class=\"ellipsis rank02\"><a class=\"fc_mgray\" href=\"javascript:melon.link.goArtistDetail('751611');\" title=\"헤이즈 (Heize) - 페이지 이동\">헤이즈 (Heize)</a><span class=\"checkEllipsis\" style=\"display: none;\"><a class=\"fc_mgray\" href=\"javascript:melon.link.goArtistDetail('751611');\" title=\"헤이즈 (Heize) - 페이지 이동\">헤이즈 (Heize)</a></span></div>,\n",
       " <div class=\"ellipsis rank02\"><a class=\"fc_mgray\" href=\"javascript:melon.link.goArtistDetail('534360');\" title=\"Apink (에이핑크) - 페이지 이동\">Apink (에이핑크)</a><span class=\"checkEllipsis\" style=\"display: none;\"><a class=\"fc_mgray\" href=\"javascript:melon.link.goArtistDetail('534360');\" title=\"Apink (에이핑크) - 페이지 이동\">Apink (에이핑크)</a></span></div>,\n",
       " <div class=\"ellipsis rank02\"><a class=\"fc_mgray\" href=\"javascript:melon.link.goArtistDetail('724619');\" title=\"EXO - 페이지 이동\">EXO</a><span class=\"checkEllipsis\" style=\"display: none;\"><a class=\"fc_mgray\" href=\"javascript:melon.link.goArtistDetail('724619');\" title=\"EXO - 페이지 이동\">EXO</a></span></div>,\n",
       " <div class=\"ellipsis rank02\"><a class=\"fc_mgray\" href=\"javascript:melon.link.goArtistDetail('647971');\" title=\"비투비 - 페이지 이동\">비투비</a><span class=\"checkEllipsis\" style=\"display: none;\"><a class=\"fc_mgray\" href=\"javascript:melon.link.goArtistDetail('647971');\" title=\"비투비 - 페이지 이동\">비투비</a></span></div>,\n",
       " <div class=\"ellipsis rank02\"><a class=\"fc_mgray\" href=\"javascript:melon.link.goArtistDetail('261143');\" title=\"아이유 - 페이지 이동\">아이유</a><span class=\"checkEllipsis\" style=\"display: none;\"><a class=\"fc_mgray\" href=\"javascript:melon.link.goArtistDetail('261143');\" title=\"아이유 - 페이지 이동\">아이유</a></span></div>,\n",
       " <div class=\"ellipsis rank02\"><a class=\"fc_mgray\" href=\"javascript:melon.link.goArtistDetail('41499');\" title=\"박원 - 페이지 이동\">박원</a><span class=\"checkEllipsis\" style=\"display: none;\"><a class=\"fc_mgray\" href=\"javascript:melon.link.goArtistDetail('41499');\" title=\"박원 - 페이지 이동\">박원</a></span></div>,\n",
       " <div class=\"ellipsis rank02\"><a class=\"fc_mgray\" href=\"javascript:melon.link.goArtistDetail('896096');\" title=\"닐로 (Nilo) - 페이지 이동\">닐로 (Nilo)</a><span class=\"checkEllipsis\" style=\"display: none;\"><a class=\"fc_mgray\" href=\"javascript:melon.link.goArtistDetail('896096');\" title=\"닐로 (Nilo) - 페이지 이동\">닐로 (Nilo)</a></span></div>,\n",
       " <div class=\"ellipsis rank02\"><a class=\"fc_mgray\" href=\"javascript:melon.link.goArtistDetail('750053');\" title=\"마마무(Mamamoo) - 페이지 이동\">마마무(Mamamoo)</a><span class=\"checkEllipsis\" style=\"display: none;\"><a class=\"fc_mgray\" href=\"javascript:melon.link.goArtistDetail('750053');\" title=\"마마무(Mamamoo) - 페이지 이동\">마마무(Mamamoo)</a></span></div>,\n",
       " <div class=\"ellipsis rank02\"><a class=\"fc_mgray\" href=\"javascript:melon.link.goArtistDetail('22938');\" title=\"선미 - 페이지 이동\">선미</a><span class=\"checkEllipsis\" style=\"display: none;\"><a class=\"fc_mgray\" href=\"javascript:melon.link.goArtistDetail('22938');\" title=\"선미 - 페이지 이동\">선미</a></span></div>,\n",
       " <div class=\"ellipsis rank02\"><a class=\"fc_mgray\" href=\"javascript:melon.link.goArtistDetail('160080');\" title=\"바이브 - 페이지 이동\">바이브</a><span class=\"checkEllipsis\" style=\"display: none;\"><a class=\"fc_mgray\" href=\"javascript:melon.link.goArtistDetail('160080');\" title=\"바이브 - 페이지 이동\">바이브</a></span></div>,\n",
       " <div class=\"ellipsis rank02\"><a class=\"fc_mgray\" href=\"javascript:melon.link.goArtistDetail('839732');\" title=\"멜로망스 - 페이지 이동\">멜로망스</a><span class=\"checkEllipsis\" style=\"display: none;\"><a class=\"fc_mgray\" href=\"javascript:melon.link.goArtistDetail('839732');\" title=\"멜로망스 - 페이지 이동\">멜로망스</a></span></div>,\n",
       " <div class=\"ellipsis rank02\"><a class=\"fc_mgray\" href=\"javascript:melon.link.goArtistDetail('752425');\" title=\"폴킴 - 페이지 이동\">폴킴</a><span class=\"checkEllipsis\" style=\"display: none;\"><a class=\"fc_mgray\" href=\"javascript:melon.link.goArtistDetail('752425');\" title=\"폴킴 - 페이지 이동\">폴킴</a></span></div>,\n",
       " <div class=\"ellipsis rank02\"><a class=\"fc_mgray\" href=\"javascript:melon.link.goArtistDetail('751611');\" title=\"헤이즈 (Heize) - 페이지 이동\">헤이즈 (Heize)</a><span class=\"checkEllipsis\" style=\"display: none;\"><a class=\"fc_mgray\" href=\"javascript:melon.link.goArtistDetail('751611');\" title=\"헤이즈 (Heize) - 페이지 이동\">헤이즈 (Heize)</a></span></div>,\n",
       " <div class=\"ellipsis rank02\"><a class=\"fc_mgray\" href=\"javascript:melon.link.goArtistDetail('1865973');\" title=\"Wanna One (워너원) - 페이지 이동\">Wanna One (워너원)</a><span class=\"checkEllipsis\" style=\"display: none;\"><a class=\"fc_mgray\" href=\"javascript:melon.link.goArtistDetail('1865973');\" title=\"Wanna One (워너원) - 페이지 이동\">Wanna One (워너원)</a></span></div>,\n",
       " <div class=\"ellipsis rank02\"><a class=\"fc_mgray\" href=\"javascript:melon.link.goArtistDetail('1866689');\" title=\"우원재 - 페이지 이동\">우원재</a><span class=\"checkEllipsis\" style=\"display: none;\"><a class=\"fc_mgray\" href=\"javascript:melon.link.goArtistDetail('1866689');\" title=\"우원재 - 페이지 이동\">우원재</a></span></div>,\n",
       " <div class=\"ellipsis rank02\"><a class=\"fc_mgray\" href=\"javascript:melon.link.goArtistDetail('780066');\" title=\"Red Velvet (레드벨벳) - 페이지 이동\">Red Velvet (레드벨벳)</a><span class=\"checkEllipsis\" style=\"display: none;\"><a class=\"fc_mgray\" href=\"javascript:melon.link.goArtistDetail('780066');\" title=\"Red Velvet (레드벨벳) - 페이지 이동\">Red Velvet (레드벨벳)</a></span></div>,\n",
       " <div class=\"ellipsis rank02\"><a class=\"fc_mgray\" href=\"javascript:melon.link.goArtistDetail('22938');\" title=\"선미 - 페이지 이동\">선미</a><span class=\"checkEllipsis\" style=\"display: none;\"><a class=\"fc_mgray\" href=\"javascript:melon.link.goArtistDetail('22938');\" title=\"선미 - 페이지 이동\">선미</a></span></div>,\n",
       " <div class=\"ellipsis rank02\"><a class=\"fc_mgray\" href=\"javascript:melon.link.goArtistDetail('780066');\" title=\"Red Velvet (레드벨벳) - 페이지 이동\">Red Velvet (레드벨벳)</a><span class=\"checkEllipsis\" style=\"display: none;\"><a class=\"fc_mgray\" href=\"javascript:melon.link.goArtistDetail('780066');\" title=\"Red Velvet (레드벨벳) - 페이지 이동\">Red Velvet (레드벨벳)</a></span></div>,\n",
       " <div class=\"ellipsis rank02\"><a class=\"fc_mgray\" href=\"javascript:melon.link.goArtistDetail('792091');\" title=\"정승환 - 페이지 이동\">정승환</a><span class=\"checkEllipsis\" style=\"display: none;\"><a class=\"fc_mgray\" href=\"javascript:melon.link.goArtistDetail('792091');\" title=\"정승환 - 페이지 이동\">정승환</a></span></div>,\n",
       " <div class=\"ellipsis rank02\"><a class=\"fc_mgray\" href=\"javascript:melon.link.goArtistDetail('672375');\" title=\"방탄소년단 - 페이지 이동\">방탄소년단</a><span class=\"checkEllipsis\" style=\"display: none;\"><a class=\"fc_mgray\" href=\"javascript:melon.link.goArtistDetail('672375');\" title=\"방탄소년단 - 페이지 이동\">방탄소년단</a></span></div>,\n",
       " <div class=\"ellipsis rank02\"><a class=\"fc_mgray\" href=\"javascript:melon.link.goArtistDetail('905701');\" title=\"TWICE (트와이스) - 페이지 이동\">TWICE (트와이스)</a><span class=\"checkEllipsis\" style=\"display: none;\"><a class=\"fc_mgray\" href=\"javascript:melon.link.goArtistDetail('905701');\" title=\"TWICE (트와이스) - 페이지 이동\">TWICE (트와이스)</a></span></div>,\n",
       " <div class=\"ellipsis rank02\"><a class=\"fc_mgray\" href=\"javascript:melon.link.goArtistDetail('995169');\" title=\"BLACKPINK - 페이지 이동\">BLACKPINK</a><span class=\"checkEllipsis\" style=\"display: none;\"><a class=\"fc_mgray\" href=\"javascript:melon.link.goArtistDetail('995169');\" title=\"BLACKPINK - 페이지 이동\">BLACKPINK</a></span></div>,\n",
       " <div class=\"ellipsis rank02\"><a class=\"fc_mgray\" href=\"javascript:melon.link.goArtistDetail('775197');\" title=\"WINNER - 페이지 이동\">WINNER</a><span class=\"checkEllipsis\" style=\"display: none;\"><a class=\"fc_mgray\" href=\"javascript:melon.link.goArtistDetail('775197');\" title=\"WINNER - 페이지 이동\">WINNER</a></span></div>,\n",
       " <div class=\"ellipsis rank02\"><a class=\"fc_mgray\" href=\"javascript:melon.link.goArtistDetail('100176');\" title=\"포맨 - 페이지 이동\">포맨</a><span class=\"checkEllipsis\" style=\"display: none;\"><a class=\"fc_mgray\" href=\"javascript:melon.link.goArtistDetail('100176');\" title=\"포맨 - 페이지 이동\">포맨</a></span></div>,\n",
       " <div class=\"ellipsis rank02\"><a class=\"fc_mgray\" href=\"javascript:melon.link.goArtistDetail('629831');\" title=\"에일리 - 페이지 이동\">에일리</a><span class=\"checkEllipsis\" style=\"display: none;\"><a class=\"fc_mgray\" href=\"javascript:melon.link.goArtistDetail('629831');\" title=\"에일리 - 페이지 이동\">에일리</a></span></div>,\n",
       " <div class=\"ellipsis rank02\"><a class=\"fc_mgray\" href=\"javascript:melon.link.goArtistDetail('2112493');\" title=\"HAON (김하온) - 페이지 이동\">HAON (김하온)</a>, <a class=\"fc_mgray\" href=\"javascript:melon.link.goArtistDetail('2113204');\" title=\"빈첸 (VINXEN) - 페이지 이동\">빈첸 (VINXEN)</a><span class=\"checkEllipsis\" style=\"display: none;\"><a class=\"fc_mgray\" href=\"javascript:melon.link.goArtistDetail('2112493');\" title=\"HAON (김하온) - 페이지 이동\">HAON (김하온)</a>, <a class=\"fc_mgray\" href=\"javascript:melon.link.goArtistDetail('2113204');\" title=\"빈첸 (VINXEN) - 페이지 이동\">빈첸 (VINXEN)</a></span></div>,\n",
       " <div class=\"ellipsis rank02\"><a class=\"fc_mgray\" href=\"javascript:melon.link.goArtistDetail('749640');\" title=\"펀치 (Punch) - 페이지 이동\">펀치 (Punch)</a><span class=\"checkEllipsis\" style=\"display: none;\"><a class=\"fc_mgray\" href=\"javascript:melon.link.goArtistDetail('749640');\" title=\"펀치 (Punch) - 페이지 이동\">펀치 (Punch)</a></span></div>,\n",
       " <div class=\"ellipsis rank02\"><a class=\"fc_mgray\" href=\"javascript:melon.link.goArtistDetail('672375');\" title=\"방탄소년단 - 페이지 이동\">방탄소년단</a><span class=\"checkEllipsis\" style=\"display: none;\"><a class=\"fc_mgray\" href=\"javascript:melon.link.goArtistDetail('672375');\" title=\"방탄소년단 - 페이지 이동\">방탄소년단</a></span></div>,\n",
       " <div class=\"ellipsis rank02\"><a class=\"fc_mgray\" href=\"javascript:melon.link.goArtistDetail('602056');\" title=\"지코 (ZICO) - 페이지 이동\">지코 (ZICO)</a><span class=\"checkEllipsis\" style=\"display: none;\"><a class=\"fc_mgray\" href=\"javascript:melon.link.goArtistDetail('602056');\" title=\"지코 (ZICO) - 페이지 이동\">지코 (ZICO)</a></span></div>,\n",
       " <div class=\"ellipsis rank02\"><a class=\"fc_mgray\" href=\"javascript:melon.link.goArtistDetail('699632');\" title=\"로이킴 - 페이지 이동\">로이킴</a><span class=\"checkEllipsis\" style=\"display: none;\"><a class=\"fc_mgray\" href=\"javascript:melon.link.goArtistDetail('699632');\" title=\"로이킴 - 페이지 이동\">로이킴</a></span></div>,\n",
       " <div class=\"ellipsis rank02\"><a class=\"fc_mgray\" href=\"javascript:melon.link.goArtistDetail('1865973');\" title=\"Wanna One (워너원) - 페이지 이동\">Wanna One (워너원)</a><span class=\"checkEllipsis\" style=\"display: none;\"><a class=\"fc_mgray\" href=\"javascript:melon.link.goArtistDetail('1865973');\" title=\"Wanna One (워너원) - 페이지 이동\">Wanna One (워너원)</a></span></div>,\n",
       " <div class=\"ellipsis rank02\"><a class=\"fc_mgray\" href=\"javascript:melon.link.goArtistDetail('752425');\" title=\"폴킴 - 페이지 이동\">폴킴</a><span class=\"checkEllipsis\" style=\"display: none;\"><a class=\"fc_mgray\" href=\"javascript:melon.link.goArtistDetail('752425');\" title=\"폴킴 - 페이지 이동\">폴킴</a></span></div>,\n",
       " <div class=\"ellipsis rank02\"><a class=\"fc_mgray\" href=\"javascript:melon.link.goArtistDetail('3959');\" title=\"나얼 - 페이지 이동\">나얼</a><span class=\"checkEllipsis\" style=\"display: none;\"><a class=\"fc_mgray\" href=\"javascript:melon.link.goArtistDetail('3959');\" title=\"나얼 - 페이지 이동\">나얼</a></span></div>,\n",
       " <div class=\"ellipsis rank02\"><a class=\"fc_mgray\" href=\"javascript:melon.link.goArtistDetail('792022');\" title=\"볼빨간사춘기 - 페이지 이동\">볼빨간사춘기</a><span class=\"checkEllipsis\" style=\"display: none;\"><a class=\"fc_mgray\" href=\"javascript:melon.link.goArtistDetail('792022');\" title=\"볼빨간사춘기 - 페이지 이동\">볼빨간사춘기</a></span></div>,\n",
       " <div class=\"ellipsis rank02\"><a class=\"fc_mgray\" href=\"javascript:melon.link.goArtistDetail('41499');\" title=\"박원 - 페이지 이동\">박원</a><span class=\"checkEllipsis\" style=\"display: none;\"><a class=\"fc_mgray\" href=\"javascript:melon.link.goArtistDetail('41499');\" title=\"박원 - 페이지 이동\">박원</a></span></div>,\n",
       " <div class=\"ellipsis rank02\"><a class=\"fc_mgray\" href=\"javascript:melon.link.goArtistDetail('775197');\" title=\"WINNER - 페이지 이동\">WINNER</a><span class=\"checkEllipsis\" style=\"display: none;\"><a class=\"fc_mgray\" href=\"javascript:melon.link.goArtistDetail('775197');\" title=\"WINNER - 페이지 이동\">WINNER</a></span></div>,\n",
       " <div class=\"ellipsis rank02\"><a class=\"fc_mgray\" href=\"javascript:melon.link.goArtistDetail('906283');\" title=\"민서 - 페이지 이동\">민서</a>, <a class=\"fc_mgray\" href=\"javascript:melon.link.goArtistDetail('437');\" title=\"윤종신 - 페이지 이동\">윤종신</a><span class=\"checkEllipsis\" style=\"display: none;\"><a class=\"fc_mgray\" href=\"javascript:melon.link.goArtistDetail('906283');\" title=\"민서 - 페이지 이동\">민서</a>, <a class=\"fc_mgray\" href=\"javascript:melon.link.goArtistDetail('437');\" title=\"윤종신 - 페이지 이동\">윤종신</a></span></div>,\n",
       " <div class=\"ellipsis rank02\"><a class=\"fc_mgray\" href=\"javascript:melon.link.goArtistDetail('780066');\" title=\"Red Velvet (레드벨벳) - 페이지 이동\">Red Velvet (레드벨벳)</a><span class=\"checkEllipsis\" style=\"display: none;\"><a class=\"fc_mgray\" href=\"javascript:melon.link.goArtistDetail('780066');\" title=\"Red Velvet (레드벨벳) - 페이지 이동\">Red Velvet (레드벨벳)</a></span></div>,\n",
       " <div class=\"ellipsis rank02\"><a class=\"fc_mgray\" href=\"javascript:melon.link.goArtistDetail('686920');\" title=\"AOA - 페이지 이동\">AOA</a><span class=\"checkEllipsis\" style=\"display: none;\"><a class=\"fc_mgray\" href=\"javascript:melon.link.goArtistDetail('686920');\" title=\"AOA - 페이지 이동\">AOA</a></span></div>,\n",
       " <div class=\"ellipsis rank02\"><a class=\"fc_mgray\" href=\"javascript:melon.link.goArtistDetail('2111771');\" title=\"Rohann (이로한) - 페이지 이동\">Rohann (이로한)</a>, <a class=\"fc_mgray\" href=\"javascript:melon.link.goArtistDetail('2111772');\" title=\"오담률 (CHIN CHILLA) - 페이지 이동\">오담률 (CHIN CHILLA)</a><span class=\"checkEllipsis\" style=\"display: none;\"><a class=\"fc_mgray\" href=\"javascript:melon.link.goArtistDetail('2111771');\" title=\"Rohann (이로한) - 페이지 이동\">Rohann (이로한)</a>, <a class=\"fc_mgray\" href=\"javascript:melon.link.goArtistDetail('2111772');\" title=\"오담률 (CHIN CHILLA) - 페이지 이동\">오담률 (CHIN CHILLA)</a></span></div>,\n",
       " <div class=\"ellipsis rank02\"><a class=\"fc_mgray\" href=\"javascript:melon.link.goArtistDetail('943511');\" title=\"pH-1 - 페이지 이동\">pH-1</a>, <a class=\"fc_mgray\" href=\"javascript:melon.link.goArtistDetail('873162');\" title=\"Kid Milli - 페이지 이동\">Kid Milli</a>, <a class=\"fc_mgray\" href=\"javascript:melon.link.goArtistDetail('957315');\" title=\"루피(Loopy) - 페이지 이동\">루피(Loopy)</a><span class=\"checkEllipsis\" style=\"display: none;\"><a class=\"fc_mgray\" href=\"javascript:melon.link.goArtistDetail('943511');\" title=\"pH-1 - 페이지 이동\">pH-1</a>, <a class=\"fc_mgray\" href=\"javascript:melon.link.goArtistDetail('873162');\" title=\"Kid Milli - 페이지 이동\">Kid Milli</a>, <a class=\"fc_mgray\" href=\"javascript:melon.link.goArtistDetail('957315');\" title=\"루피(Loopy) - 페이지 이동\">루피(Loopy)</a></span></div>,\n",
       " <div class=\"ellipsis rank02\"><a class=\"fc_mgray\" href=\"javascript:melon.link.goArtistDetail('2137482');\" title=\"(여자)아이들 - 페이지 이동\">(여자)아이들</a><span class=\"checkEllipsis\" style=\"display: none;\"><a class=\"fc_mgray\" href=\"javascript:melon.link.goArtistDetail('2137482');\" title=\"(여자)아이들 - 페이지 이동\">(여자)아이들</a></span></div>,\n",
       " <div class=\"ellipsis rank02\"><a class=\"fc_mgray\" href=\"javascript:melon.link.goArtistDetail('695994');\" title=\"양다일 - 페이지 이동\">양다일</a><span class=\"checkEllipsis\" style=\"display: none;\"><a class=\"fc_mgray\" href=\"javascript:melon.link.goArtistDetail('695994');\" title=\"양다일 - 페이지 이동\">양다일</a></span></div>,\n",
       " <div class=\"ellipsis rank02\"><a class=\"fc_mgray\" href=\"javascript:melon.link.goArtistDetail('925');\" title=\"김동률 - 페이지 이동\">김동률</a><span class=\"checkEllipsis\" style=\"display: none;\"><a class=\"fc_mgray\" href=\"javascript:melon.link.goArtistDetail('925');\" title=\"김동률 - 페이지 이동\">김동률</a></span></div>,\n",
       " <div class=\"ellipsis rank02\"><a class=\"fc_mgray\" href=\"javascript:melon.link.goArtistDetail('995173');\" title=\"제니 (JENNIE) - 페이지 이동\">제니 (JENNIE)</a><span class=\"checkEllipsis\" style=\"display: none;\"><a class=\"fc_mgray\" href=\"javascript:melon.link.goArtistDetail('995173');\" title=\"제니 (JENNIE) - 페이지 이동\">제니 (JENNIE)</a></span></div>,\n",
       " <div class=\"ellipsis rank02\"><a class=\"fc_mgray\" href=\"javascript:melon.link.goArtistDetail('672375');\" title=\"방탄소년단 - 페이지 이동\">방탄소년단</a><span class=\"checkEllipsis\" style=\"display: none;\"><a class=\"fc_mgray\" href=\"javascript:melon.link.goArtistDetail('672375');\" title=\"방탄소년단 - 페이지 이동\">방탄소년단</a></span></div>,\n",
       " <div class=\"ellipsis rank02\"><a class=\"fc_mgray\" href=\"javascript:melon.link.goArtistDetail('839732');\" title=\"멜로망스 - 페이지 이동\">멜로망스</a><span class=\"checkEllipsis\" style=\"display: none;\"><a class=\"fc_mgray\" href=\"javascript:melon.link.goArtistDetail('839732');\" title=\"멜로망스 - 페이지 이동\">멜로망스</a></span></div>,\n",
       " <div class=\"ellipsis rank02\"><a class=\"fc_mgray\" href=\"javascript:melon.link.goArtistDetail('1865973');\" title=\"Wanna One (워너원) - 페이지 이동\">Wanna One (워너원)</a><span class=\"checkEllipsis\" style=\"display: none;\"><a class=\"fc_mgray\" href=\"javascript:melon.link.goArtistDetail('1865973');\" title=\"Wanna One (워너원) - 페이지 이동\">Wanna One (워너원)</a></span></div>,\n",
       " <div class=\"ellipsis rank02\"><a class=\"fc_mgray\" href=\"javascript:melon.link.goArtistDetail('420527');\" title=\"어반자카파 - 페이지 이동\">어반자카파</a><span class=\"checkEllipsis\" style=\"display: none;\"><a class=\"fc_mgray\" href=\"javascript:melon.link.goArtistDetail('420527');\" title=\"어반자카파 - 페이지 이동\">어반자카파</a></span></div>,\n",
       " <div class=\"ellipsis rank02\"><a class=\"fc_mgray\" href=\"javascript:melon.link.goArtistDetail('403841');\" title=\"승리 - 페이지 이동\">승리</a><span class=\"checkEllipsis\" style=\"display: none;\"><a class=\"fc_mgray\" href=\"javascript:melon.link.goArtistDetail('403841');\" title=\"승리 - 페이지 이동\">승리</a></span></div>,\n",
       " <div class=\"ellipsis rank02\"><a class=\"fc_mgray\" href=\"javascript:melon.link.goArtistDetail('839732');\" title=\"멜로망스 - 페이지 이동\">멜로망스</a><span class=\"checkEllipsis\" style=\"display: none;\"><a class=\"fc_mgray\" href=\"javascript:melon.link.goArtistDetail('839732');\" title=\"멜로망스 - 페이지 이동\">멜로망스</a></span></div>,\n",
       " <div class=\"ellipsis rank02\"><a class=\"fc_mgray\" href=\"javascript:melon.link.goArtistDetail('544520');\" title=\"종현 (JONGHYUN) - 페이지 이동\">종현 (JONGHYUN)</a><span class=\"checkEllipsis\" style=\"display: none;\"><a class=\"fc_mgray\" href=\"javascript:melon.link.goArtistDetail('544520');\" title=\"종현 (JONGHYUN) - 페이지 이동\">종현 (JONGHYUN)</a></span></div>,\n",
       " <div class=\"ellipsis rank02\"><a class=\"fc_mgray\" href=\"javascript:melon.link.goArtistDetail('1228017');\" title=\"EXO-CBX (첸백시) - 페이지 이동\">EXO-CBX (첸백시)</a><span class=\"checkEllipsis\" style=\"display: none;\"><a class=\"fc_mgray\" href=\"javascript:melon.link.goArtistDetail('1228017');\" title=\"EXO-CBX (첸백시) - 페이지 이동\">EXO-CBX (첸백시)</a></span></div>,\n",
       " <div class=\"ellipsis rank02\"><a class=\"fc_mgray\" href=\"javascript:melon.link.goArtistDetail('500421');\" title=\"길구봉구 - 페이지 이동\">길구봉구</a><span class=\"checkEllipsis\" style=\"display: none;\"><a class=\"fc_mgray\" href=\"javascript:melon.link.goArtistDetail('500421');\" title=\"길구봉구 - 페이지 이동\">길구봉구</a></span></div>,\n",
       " <div class=\"ellipsis rank02\"><a class=\"fc_mgray\" href=\"javascript:melon.link.goArtistDetail('688432');\" title=\"로꼬 - 페이지 이동\">로꼬</a><span class=\"checkEllipsis\" style=\"display: none;\"><a class=\"fc_mgray\" href=\"javascript:melon.link.goArtistDetail('688432');\" title=\"로꼬 - 페이지 이동\">로꼬</a></span></div>,\n",
       " <div class=\"ellipsis rank02\"><a class=\"fc_mgray\" href=\"javascript:melon.link.goArtistDetail('585492');\" title=\"기리보이 - 페이지 이동\">기리보이</a>, <a class=\"fc_mgray\" href=\"javascript:melon.link.goArtistDetail('873162');\" title=\"Kid Milli - 페이지 이동\">Kid Milli</a>, <a class=\"fc_mgray\" href=\"javascript:melon.link.goArtistDetail('1703593');\" title=\"NO:EL - 페이지 이동\">NO:EL</a>, <a class=\"fc_mgray\" href=\"javascript:melon.link.goArtistDetail('236970');\" title=\"스윙스 - 페이지 이동\">스윙스</a><span class=\"checkEllipsis\" style=\"display: none;\"><a class=\"fc_mgray\" href=\"javascript:melon.link.goArtistDetail('585492');\" title=\"기리보이 - 페이지 이동\">기리보이</a>, <a class=\"fc_mgray\" href=\"javascript:melon.link.goArtistDetail('873162');\" title=\"Kid Milli - 페이지 이동\">Kid Milli</a>, <a class=\"fc_mgray\" href=\"javascript:melon.link.goArtistDetail('1703593');\" title=\"NO:EL - 페이지 이동\">NO:EL</a>, <a class=\"fc_mgray\" href=\"javascript:melon.link.goArtistDetail('236970');\" title=\"스윙스 - 페이지 이동\">스윙스</a></span></div>,\n",
       " <div class=\"ellipsis rank02\"><a class=\"fc_mgray\" href=\"javascript:melon.link.goArtistDetail('905701');\" title=\"TWICE (트와이스) - 페이지 이동\">TWICE (트와이스)</a><span class=\"checkEllipsis\" style=\"display: none;\"><a class=\"fc_mgray\" href=\"javascript:melon.link.goArtistDetail('905701');\" title=\"TWICE (트와이스) - 페이지 이동\">TWICE (트와이스)</a></span></div>,\n",
       " <div class=\"ellipsis rank02\"><a class=\"fc_mgray\" href=\"javascript:melon.link.goArtistDetail('28801');\" title=\"허각 - 페이지 이동\">허각</a><span class=\"checkEllipsis\" style=\"display: none;\"><a class=\"fc_mgray\" href=\"javascript:melon.link.goArtistDetail('28801');\" title=\"허각 - 페이지 이동\">허각</a></span></div>,\n",
       " <div class=\"ellipsis rank02\"><a class=\"fc_mgray\" href=\"javascript:melon.link.goArtistDetail('22938');\" title=\"선미 - 페이지 이동\">선미</a><span class=\"checkEllipsis\" style=\"display: none;\"><a class=\"fc_mgray\" href=\"javascript:melon.link.goArtistDetail('22938');\" title=\"선미 - 페이지 이동\">선미</a></span></div>]"
      ]
     },
     "execution_count": 82,
     "metadata": {},
     "output_type": "execute_result"
    }
   ],
   "source": [
    "singer = soup_a.find_all('div', {'class':'ellipsis rank02'})\n",
    "singer"
   ]
  },
  {
   "cell_type": "code",
   "execution_count": 91,
   "metadata": {},
   "outputs": [
    {
     "data": {
      "text/plain": [
       "'iKON'"
      ]
     },
     "execution_count": 91,
     "metadata": {},
     "output_type": "execute_result"
    }
   ],
   "source": [
    "singer[0].find('a')['title'].split()[0]"
   ]
  }
 ],
 "metadata": {
  "kernelspec": {
   "display_name": "Python 3",
   "language": "python",
   "name": "python3"
  },
  "language_info": {
   "codemirror_mode": {
    "name": "ipython",
    "version": 3
   },
   "file_extension": ".py",
   "mimetype": "text/x-python",
   "name": "python",
   "nbconvert_exporter": "python",
   "pygments_lexer": "ipython3",
   "version": "3.6.8"
  }
 },
 "nbformat": 4,
 "nbformat_minor": 2
}
