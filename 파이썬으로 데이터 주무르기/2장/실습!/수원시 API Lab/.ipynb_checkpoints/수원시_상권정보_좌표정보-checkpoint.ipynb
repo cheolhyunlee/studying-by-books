{
 "cells": [
  {
   "cell_type": "code",
   "execution_count": 2,
   "metadata": {},
   "outputs": [],
   "source": [
    "import os\n",
    "import sys\n",
    "import urllib.request\n",
    "import datetime\n",
    "import time\n",
    "import json\n",
    "from config import *\n",
    "import math\n",
    "from pprint import pprint\n",
    "import requests\n",
    "from bs4 import BeautifulSoup"
   ]
  },
  {
   "cell_type": "code",
   "execution_count": 3,
   "metadata": {},
   "outputs": [],
   "source": [
    "def get_request_url(url):\n",
    "    \n",
    "    req = urllib.request.Request(url)\n",
    "    \n",
    "    try: \n",
    "        response = urllib.request.urlopen(req)\n",
    "        if response.getcode() == 200:\n",
    "            return response.read().decode('utf-8')\n",
    "    except Exception as e:\n",
    "        print(e)\n",
    "        print(\"[%s] Error for URL : %s\" % (datetime.datetime.now(), url))\n",
    "        return None"
   ]
  },
  {
   "cell_type": "code",
   "execution_count": 4,
   "metadata": {},
   "outputs": [],
   "source": [
    "#[CODE 1]\n",
    "\n",
    "def SanggaInfoService(pageNo,numOfRows,sigunguCd,bjdongCd):\n",
    "    \n",
    "    end_point = \"http://api.suwon.go.kr/openapi-data/service/SanggaInfo/getHjdsearchInfo\"\n",
    "    \n",
    "    parameters = \"?pageNo=\" + str(pageNo)\n",
    "    parameters += \"&numOfRows=\" + str(numOfRows)\n",
    "    parameters += \"&sigunguCd=\" + str(sigunguCd)\n",
    "    parameters += \"&bjdongCd=\" + str(bjdongCd)\n",
    "    parameters += \"&ServiceKey=\" + \"TIyuV2FHFQSS46wIlsJNrwYGs9SqQEDOtNb0XZjVWp8k6pVUitI9BsXYzNGEYhUmLuovIzoeoIEA3fbXwqQwTg%3D%3D\"\n",
    "    \n",
    "    global url\n",
    "    \n",
    "    url = end_point + parameters\n",
    "    \n",
    "    global retData\n",
    "    \n",
    "    retData = get_request_url(url)\n",
    "    \n",
    "    if (retData == None):\n",
    "        return None\n",
    "    else:\n",
    "        return "
   ]
  },
  {
   "cell_type": "code",
   "execution_count": 5,
   "metadata": {},
   "outputs": [],
   "source": [
    "SanggaInfoService(1,3000,41117,10500)\n",
    "\n",
    "soup = BeautifulSoup(retData, \"html.parser\")\n",
    "items = soup.find_all(\"item\")\n",
    "\n",
    "cafe = []\n",
    "\n",
    "x = []\n",
    "y = []\n",
    "\n",
    "for i in items :\n",
    "    if str(i.indsmclsnm.text) == \"커피점/카페\" :\n",
    "        x.append(i.lat.text)\n",
    "        y.append(i.lon.text)"
   ]
  },
  {
   "cell_type": "code",
   "execution_count": 7,
   "metadata": {},
   "outputs": [
    {
     "data": {
      "text/plain": [
       "70"
      ]
     },
     "execution_count": 7,
     "metadata": {},
     "output_type": "execute_result"
    }
   ],
   "source": [
    "len(y)"
   ]
  }
 ],
 "metadata": {
  "kernelspec": {
   "display_name": "Python 3",
   "language": "python",
   "name": "python3"
  },
  "language_info": {
   "codemirror_mode": {
    "name": "ipython",
    "version": 3
   },
   "file_extension": ".py",
   "mimetype": "text/x-python",
   "name": "python",
   "nbconvert_exporter": "python",
   "pygments_lexer": "ipython3",
   "version": "3.6.8"
  }
 },
 "nbformat": 4,
 "nbformat_minor": 2
}
