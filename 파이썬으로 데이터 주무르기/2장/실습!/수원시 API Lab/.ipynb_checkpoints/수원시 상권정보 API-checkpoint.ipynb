{
 "cells": [
  {
   "cell_type": "code",
   "execution_count": 6,
   "metadata": {},
   "outputs": [],
   "source": [
    "import os\n",
    "import sys\n",
    "import urllib.request\n",
    "import datetime\n",
    "import time\n",
    "import json\n",
    "from config import *\n",
    "import math\n",
    "import requests\n",
    "from bs4 import BeautifulSoup"
   ]
  },
  {
   "cell_type": "code",
   "execution_count": 2,
   "metadata": {},
   "outputs": [],
   "source": [
    "def get_request_url(url):\n",
    "    \n",
    "    req = urllib.request.Request(url)\n",
    "    \n",
    "    try: \n",
    "        response = urllib.request.urlopen(req)\n",
    "        if response.getcode() == 200:\n",
    "            print (\"[%s] Url Request Success\" % datetime.datetime.now())\n",
    "            return response.read().decode('utf-8')\n",
    "    except Exception as e:\n",
    "        print(e)\n",
    "        print(\"[%s] Error for URL : %s\" % (datetime.datetime.now(), url))\n",
    "        return None"
   ]
  },
  {
   "cell_type": "code",
   "execution_count": 3,
   "metadata": {},
   "outputs": [],
   "source": [
    "#[CODE 1]\n",
    "\n",
    "def SanggaInfoService(pageNo,numOfRows,sigunguCd,bjdongCd):\n",
    "    \n",
    "    end_point = \"http://api.suwon.go.kr/openapi-data/service/SanggaInfo/getHjdsearchInfo\"\n",
    "    \n",
    "    parameters = \"?pageNo=\" + str(pageNo)\n",
    "    parameters += \"&numOfRows=\" + str(numOfRows)\n",
    "    parameters += \"&sigunguCd=\" + str(sigunguCd)\n",
    "    parameters += \"&bjdongCd=\" + str(bjdongCd)\n",
    "    parameters += \"&ServiceKey=\" + \"TIyuV2FHFQSS46wIlsJNrwYGs9SqQEDOtNb0XZjVWp8k6pVUitI9BsXYzNGEYhUmLuovIzoeoIEA3fbXwqQwTg%3D%3D\"\n",
    "    \n",
    "    global url\n",
    "    \n",
    "    url = end_point + parameters\n",
    "    \n",
    "    global retData\n",
    "    \n",
    "    retData = get_request_url(url)\n",
    "    \n",
    "    if (retData == None):\n",
    "        return None\n",
    "    else:\n",
    "        return "
   ]
  },
  {
   "cell_type": "code",
   "execution_count": 7,
   "metadata": {},
   "outputs": [
    {
     "name": "stdout",
     "output_type": "stream",
     "text": [
      "[2019-05-07 13:02:11.905396] Url Request Success\n"
     ]
    }
   ],
   "source": [
    "# pageNo = 1, numOfRows = 1, 수원시 영통구 영통동\n",
    "SanggaInfoService(1,1,41117,10500)"
   ]
  },
  {
   "cell_type": "code",
   "execution_count": 8,
   "metadata": {
    "scrolled": true
   },
   "outputs": [
    {
     "name": "stdout",
     "output_type": "stream",
     "text": [
      "http://api.suwon.go.kr/openapi-data/service/SanggaInfo/getHjdsearchInfo?pageNo=1&numOfRows=1&sigunguCd=41117&bjdongCd=10500&ServiceKey=TIyuV2FHFQSS46wIlsJNrwYGs9SqQEDOtNb0XZjVWp8k6pVUitI9BsXYzNGEYhUmLuovIzoeoIEA3fbXwqQwTg%3D%3D\n"
     ]
    }
   ],
   "source": [
    "print(url)"
   ]
  },
  {
   "cell_type": "code",
   "execution_count": 9,
   "metadata": {},
   "outputs": [
    {
     "data": {
      "text/plain": [
       "str"
      ]
     },
     "execution_count": 9,
     "metadata": {},
     "output_type": "execute_result"
    }
   ],
   "source": [
    "type(retData)"
   ]
  },
  {
   "cell_type": "code",
   "execution_count": 4,
   "metadata": {},
   "outputs": [],
   "source": [
    "import requests\n",
    "from bs4 import BeautifulSoup"
   ]
  },
  {
   "cell_type": "code",
   "execution_count": 11,
   "metadata": {
    "scrolled": true
   },
   "outputs": [],
   "source": [
    "soup = BeautifulSoup(retData, \"html.parser\")"
   ]
  },
  {
   "cell_type": "code",
   "execution_count": 12,
   "metadata": {},
   "outputs": [
    {
     "data": {
      "text/plain": [
       "bs4.BeautifulSoup"
      ]
     },
     "execution_count": 12,
     "metadata": {},
     "output_type": "execute_result"
    }
   ],
   "source": [
    "type(soup)"
   ]
  },
  {
   "cell_type": "code",
   "execution_count": 13,
   "metadata": {
    "scrolled": true
   },
   "outputs": [
    {
     "data": {
      "text/plain": [
       "<?xml version=\"1.0\" encoding=\"UTF-8\" standalone=\"yes\"?><response><header><resultcode>00</resultcode><resultmsg>NORMAL SERVICE.</resultmsg></header><body><items><item><adongcd>4111758000</adongcd><adongnm>영통2동</adongnm><bizesid>20363553</bizesid><bizesnm>멕시카나</bizesnm><bldmngno>4111710500109670002000625</bldmngno><bldmnno>20</bldmnno><bldnm>극동풍림아파트</bldnm><brchnm>영통점</brchnm><ctprvncd>41</ctprvncd><ctprvnnm>경기도</ctprvnnm><hono>109</hono><indslclscd>Q</indslclscd><indslclsnm>음식</indslclsnm><indsmclscd>Q05</indsmclscd><indsmclsnm>닭/오리요리</indsmclsnm><indssclscd>Q05A08</indssclscd><indssclsnm>후라이드/양념치킨</indssclsnm><ksiccd>I56193</ksiccd><ksicnm>치킨 전문점</ksicnm><lat>37.2487514783894</lat><ldongcd>4111710500</ldongcd><ldongnm>영통동</ldongnm><lnoadr>경기도 수원시 영통구 영통동 967-2</lnoadr><lnocd>4111710500209670002</lnocd><lnomnno>967</lnomnno><lnoslno>2</lnoslno><lon>127.067109050789</lon><newzipcd>16699</newzipcd><oldzipcd>443733</oldzipcd><plotsctcd>1</plotsctcd><plotsctnm>대지</plotsctnm><rdnm>경기도 수원시 영통구 봉영로1517번길</rdnm><rdnmadr>경기도 수원시 영통구 봉영로1517번길 20</rdnmadr><rdnmcd>411174331088</rdnmcd><signgucd>41117</signgucd><signgunm>수원시 영통구</signgunm><stdrdt>2016-05-31</stdrdt><telno>031-202-9288</telno></item></items><numofrows>1</numofrows><pageno>1</pageno><totalcount>4744</totalcount></body></response>"
      ]
     },
     "execution_count": 13,
     "metadata": {},
     "output_type": "execute_result"
    }
   ],
   "source": [
    "soup"
   ]
  },
  {
   "cell_type": "code",
   "execution_count": 14,
   "metadata": {
    "scrolled": true
   },
   "outputs": [
    {
     "name": "stdout",
     "output_type": "stream",
     "text": [
      "<?xml version=\"1.0\" encoding=\"UTF-8\" standalone=\"yes\"?>\n",
      "<response>\n",
      " <header>\n",
      "  <resultcode>\n",
      "   00\n",
      "  </resultcode>\n",
      "  <resultmsg>\n",
      "   NORMAL SERVICE.\n",
      "  </resultmsg>\n",
      " </header>\n",
      " <body>\n",
      "  <items>\n",
      "   <item>\n",
      "    <adongcd>\n",
      "     4111758000\n",
      "    </adongcd>\n",
      "    <adongnm>\n",
      "     영통2동\n",
      "    </adongnm>\n",
      "    <bizesid>\n",
      "     20363553\n",
      "    </bizesid>\n",
      "    <bizesnm>\n",
      "     멕시카나\n",
      "    </bizesnm>\n",
      "    <bldmngno>\n",
      "     4111710500109670002000625\n",
      "    </bldmngno>\n",
      "    <bldmnno>\n",
      "     20\n",
      "    </bldmnno>\n",
      "    <bldnm>\n",
      "     극동풍림아파트\n",
      "    </bldnm>\n",
      "    <brchnm>\n",
      "     영통점\n",
      "    </brchnm>\n",
      "    <ctprvncd>\n",
      "     41\n",
      "    </ctprvncd>\n",
      "    <ctprvnnm>\n",
      "     경기도\n",
      "    </ctprvnnm>\n",
      "    <hono>\n",
      "     109\n",
      "    </hono>\n",
      "    <indslclscd>\n",
      "     Q\n",
      "    </indslclscd>\n",
      "    <indslclsnm>\n",
      "     음식\n",
      "    </indslclsnm>\n",
      "    <indsmclscd>\n",
      "     Q05\n",
      "    </indsmclscd>\n",
      "    <indsmclsnm>\n",
      "     닭/오리요리\n",
      "    </indsmclsnm>\n",
      "    <indssclscd>\n",
      "     Q05A08\n",
      "    </indssclscd>\n",
      "    <indssclsnm>\n",
      "     후라이드/양념치킨\n",
      "    </indssclsnm>\n",
      "    <ksiccd>\n",
      "     I56193\n",
      "    </ksiccd>\n",
      "    <ksicnm>\n",
      "     치킨 전문점\n",
      "    </ksicnm>\n",
      "    <lat>\n",
      "     37.2487514783894\n",
      "    </lat>\n",
      "    <ldongcd>\n",
      "     4111710500\n",
      "    </ldongcd>\n",
      "    <ldongnm>\n",
      "     영통동\n",
      "    </ldongnm>\n",
      "    <lnoadr>\n",
      "     경기도 수원시 영통구 영통동 967-2\n",
      "    </lnoadr>\n",
      "    <lnocd>\n",
      "     4111710500209670002\n",
      "    </lnocd>\n",
      "    <lnomnno>\n",
      "     967\n",
      "    </lnomnno>\n",
      "    <lnoslno>\n",
      "     2\n",
      "    </lnoslno>\n",
      "    <lon>\n",
      "     127.067109050789\n",
      "    </lon>\n",
      "    <newzipcd>\n",
      "     16699\n",
      "    </newzipcd>\n",
      "    <oldzipcd>\n",
      "     443733\n",
      "    </oldzipcd>\n",
      "    <plotsctcd>\n",
      "     1\n",
      "    </plotsctcd>\n",
      "    <plotsctnm>\n",
      "     대지\n",
      "    </plotsctnm>\n",
      "    <rdnm>\n",
      "     경기도 수원시 영통구 봉영로1517번길\n",
      "    </rdnm>\n",
      "    <rdnmadr>\n",
      "     경기도 수원시 영통구 봉영로1517번길 20\n",
      "    </rdnmadr>\n",
      "    <rdnmcd>\n",
      "     411174331088\n",
      "    </rdnmcd>\n",
      "    <signgucd>\n",
      "     41117\n",
      "    </signgucd>\n",
      "    <signgunm>\n",
      "     수원시 영통구\n",
      "    </signgunm>\n",
      "    <stdrdt>\n",
      "     2016-05-31\n",
      "    </stdrdt>\n",
      "    <telno>\n",
      "     031-202-9288\n",
      "    </telno>\n",
      "   </item>\n",
      "  </items>\n",
      "  <numofrows>\n",
      "   1\n",
      "  </numofrows>\n",
      "  <pageno>\n",
      "   1\n",
      "  </pageno>\n",
      "  <totalcount>\n",
      "   4744\n",
      "  </totalcount>\n",
      " </body>\n",
      "</response>\n"
     ]
    }
   ],
   "source": [
    "print(soup.prettify())"
   ]
  },
  {
   "cell_type": "code",
   "execution_count": 15,
   "metadata": {
    "scrolled": true
   },
   "outputs": [
    {
     "data": {
      "text/plain": [
       "<rdnmadr>경기도 수원시 영통구 봉영로1517번길 20</rdnmadr>"
      ]
     },
     "execution_count": 15,
     "metadata": {},
     "output_type": "execute_result"
    }
   ],
   "source": [
    "soup.rdnmadr"
   ]
  },
  {
   "cell_type": "code",
   "execution_count": 16,
   "metadata": {},
   "outputs": [
    {
     "data": {
      "text/plain": [
       "'경기도 수원시 영통구 봉영로1517번길 20'"
      ]
     },
     "execution_count": 16,
     "metadata": {},
     "output_type": "execute_result"
    }
   ],
   "source": [
    "soup.rdnmadr.text"
   ]
  },
  {
   "cell_type": "code",
   "execution_count": 17,
   "metadata": {},
   "outputs": [
    {
     "name": "stdout",
     "output_type": "stream",
     "text": [
      "상호명 : 멕시카나\n",
      "건물명 : 극동풍림아파트\n",
      "상권업종대분류명 : 음식\n",
      "상권업종중분류명 : 닭/오리요리\n",
      "상권업종소분류명 : 후라이드/양념치킨\n",
      "표준산업분류명 : 치킨 전문점\n",
      "위도 : 37.2487514783894\n",
      "경도 : 127.067109050789\n",
      "지번주소 : 경기도 수원시 영통구 영통동 967-2\n",
      "도로명주소 : 경기도 수원시 영통구 봉영로1517번길 20\n",
      "전화번호 : 031-202-9288\n",
      "데이터기준일자 : 2016-05-31\n"
     ]
    }
   ],
   "source": [
    "print(\"상호명 : \" + soup.bizesnm.text)\n",
    "print(\"건물명 : \" + soup.bldnm.text)\n",
    "print(\"상권업종대분류명 : \" + soup.indslclsnm.text)\n",
    "print(\"상권업종중분류명 : \" + soup.indsmclsnm.text)\n",
    "print(\"상권업종소분류명 : \" + soup.indssclsnm.text)\n",
    "print(\"표준산업분류명 : \" + soup.ksicnm.text)\n",
    "print(\"위도 : \" + soup.lat.text)\n",
    "print(\"경도 : \" + soup.lon.text)\n",
    "print(\"지번주소 : \" + soup.lnoadr.text)\n",
    "print(\"도로명주소 : \" + soup.rdnmadr.text)\n",
    "print(\"전화번호 : \" + soup.telno.text)\n",
    "print(\"데이터기준일자 : \" + soup.stdrdt.text)"
   ]
  },
  {
   "cell_type": "code",
   "execution_count": 4,
   "metadata": {
    "scrolled": true
   },
   "outputs": [
    {
     "name": "stdout",
     "output_type": "stream",
     "text": [
      "[2019-05-13 18:53:50.081841] Url Request Success\n"
     ]
    }
   ],
   "source": [
    "SanggaInfoService(1,5000,41117,10500) # 10500 : 영통동"
   ]
  },
  {
   "cell_type": "code",
   "execution_count": 7,
   "metadata": {},
   "outputs": [],
   "source": [
    "items = BeautifulSoup(retData, \"html.parser\")"
   ]
  },
  {
   "cell_type": "code",
   "execution_count": 10,
   "metadata": {
    "scrolled": true
   },
   "outputs": [],
   "source": [
    "items = items.find_all(\"item\")"
   ]
  },
  {
   "cell_type": "code",
   "execution_count": 11,
   "metadata": {
    "scrolled": true
   },
   "outputs": [
    {
     "data": {
      "text/plain": [
       "bs4.element.ResultSet"
      ]
     },
     "execution_count": 11,
     "metadata": {},
     "output_type": "execute_result"
    }
   ],
   "source": [
    "type(items)"
   ]
  },
  {
   "cell_type": "code",
   "execution_count": 12,
   "metadata": {},
   "outputs": [
    {
     "data": {
      "text/plain": [
       "4744"
      ]
     },
     "execution_count": 12,
     "metadata": {},
     "output_type": "execute_result"
    }
   ],
   "source": [
    "len(items)"
   ]
  },
  {
   "cell_type": "code",
   "execution_count": 14,
   "metadata": {},
   "outputs": [
    {
     "data": {
      "text/plain": [
       "'치킨 전문점'"
      ]
     },
     "execution_count": 14,
     "metadata": {},
     "output_type": "execute_result"
    }
   ],
   "source": [
    "items[0].ksicnm.text"
   ]
  },
  {
   "cell_type": "code",
   "execution_count": 17,
   "metadata": {
    "scrolled": true
   },
   "outputs": [
    {
     "name": "stdout",
     "output_type": "stream",
     "text": [
      "['기타 주점업', '컴퓨터 게임방 운영업', '부동산 자문 및 중개업', '제과점업', '서양식 음식점업', '중식 음식점업', '기타 식료품 소매업', '예술 학원', '일식 음식점업', '건강보조식품 소매업', '체인화 편의점', '그외 기타 종합 소매업', '치킨 전문점', '한의원', '한식 음식점업', '분식 및 김밥 전문점', '일반 병원', '비알콜 음료점업', '일반 의원', '일반유흥 주점업', '피자, 햄버거, 샌드위치 및 유사 음식점업', '그외 기타 음식점업']\n"
     ]
    }
   ],
   "source": [
    "# 산업 분류\n",
    "\n",
    "standard_industry = []\n",
    "\n",
    "try:\n",
    "    for i in items :\n",
    "        standard_industry.append(i.ksicnm.text)\n",
    "\n",
    "except :\n",
    "    None\n",
    "\n",
    "standard_industry = list(set(standard_industry))   \n",
    "\n",
    "print(standard_industry)"
   ]
  },
  {
   "cell_type": "code",
   "execution_count": 25,
   "metadata": {},
   "outputs": [],
   "source": [
    "b = []\n",
    "for i in items :\n",
    "    if str(i.indslclsnm.text) == \"음식\" :\n",
    "        b.append(i)"
   ]
  },
  {
   "cell_type": "code",
   "execution_count": 26,
   "metadata": {},
   "outputs": [
    {
     "data": {
      "text/plain": [
       "1400"
      ]
     },
     "execution_count": 26,
     "metadata": {},
     "output_type": "execute_result"
    }
   ],
   "source": [
    "len(b)"
   ]
  },
  {
   "cell_type": "code",
   "execution_count": 27,
   "metadata": {},
   "outputs": [],
   "source": [
    "a = []\n",
    "for i in items :\n",
    "    if str(i.indsmclsnm.text) == \"분식\" :\n",
    "        a.append(i)"
   ]
  },
  {
   "cell_type": "code",
   "execution_count": 28,
   "metadata": {},
   "outputs": [
    {
     "data": {
      "text/plain": [
       "130"
      ]
     },
     "execution_count": 28,
     "metadata": {},
     "output_type": "execute_result"
    }
   ],
   "source": [
    "len(a)"
   ]
  },
  {
   "cell_type": "code",
   "execution_count": 29,
   "metadata": {},
   "outputs": [],
   "source": [
    "i = a"
   ]
  },
  {
   "cell_type": "code",
   "execution_count": 30,
   "metadata": {
    "scrolled": true
   },
   "outputs": [
    {
     "name": "stdout",
     "output_type": "stream",
     "text": [
      "상호명 : 멕시카나\n",
      "상권업종대분류명 : 음식\n",
      "상권업종중분류명 : 닭/오리요리\n",
      "상권업종소분류명 : 후라이드/양념치킨\n",
      "표준산업분류명 : 치킨 전문점\n",
      "위도 : 37.2487514783894\n",
      "경도 : 127.067109050789\n",
      "지번주소 : 경기도 수원시 영통구 영통동 967-2\n",
      "도로명주소 : 경기도 수원시 영통구 봉영로1517번길 20\n",
      "전화번호 : 031-202-9288\n",
      "데이터기준일자 : 2016-05-31\n",
      " \n",
      "상호명 : 오장동함흥냉면\n",
      "상권업종대분류명 : 음식\n",
      "상권업종중분류명 : 한식\n",
      "상권업종소분류명 : 냉면집\n",
      "표준산업분류명 : 한식 음식점업\n",
      "위도 : 37.2527640642355\n",
      "경도 : 127.070892240979\n",
      "지번주소 : 경기도 수원시 영통구 영통동 961-6\n",
      "도로명주소 : 경기도 수원시 영통구 매영로345번길 7\n",
      "전화번호 : 031-203-4001\n",
      "데이터기준일자 : 2016-05-31\n",
      " \n",
      "상호명 : 와이키키브라더스\n",
      "상권업종대분류명 : 음식\n",
      "상권업종중분류명 : 한식\n",
      "상권업종소분류명 : 한식/백반/한정식\n",
      "표준산업분류명 : 한식 음식점업\n",
      "위도 : 37.25026446331\n",
      "경도 : 127.073887514714\n",
      "지번주소 : 경기도 수원시 영통구 영통동 1001-7\n",
      "도로명주소 : 경기도 수원시 영통구 청명남로4번길 5-2\n",
      "전화번호 : 031-206-6969\n",
      "데이터기준일자 : 2016-05-31\n",
      " \n",
      "상호명 : 홍합의전설\n",
      "상권업종대분류명 : 음식\n",
      "상권업종중분류명 : 한식\n",
      "상권업종소분류명 : 한식/백반/한정식\n",
      "표준산업분류명 : 한식 음식점업\n",
      "위도 : 37.2524773693852\n",
      "경도 : 127.075709118963\n",
      "지번주소 : 경기도 수원시 영통구 영통동 1010-1\n",
      "도로명주소 : 경기도 수원시 영통구 청명남로 32\n",
      "전화번호 : 031-202-8599\n",
      "데이터기준일자 : 2016-05-31\n",
      " \n",
      "상호명 : 오라이숯불닭갈비\n",
      "상권업종대분류명 : 음식\n",
      "상권업종중분류명 : 닭/오리요리\n",
      "상권업종소분류명 : 닭갈비전문\n",
      "표준산업분류명 : 한식 음식점업\n",
      "위도 : 37.2483371911447\n",
      "경도 : 127.07864529392\n",
      "지번주소 : 경기도 수원시 영통구 영통동 1021-5\n",
      "도로명주소 : 경기도 수원시 영통구 영일로6번길 49\n",
      "전화번호 : 031-203-3392\n",
      "데이터기준일자 : 2016-05-31\n",
      " \n",
      "상호명 : 자바참치\n",
      "상권업종대분류명 : 음식\n",
      "상권업종중분류명 : 일식/수산물\n",
      "상권업종소분류명 : 참치전문점\n",
      "표준산업분류명 : 일식 음식점업\n",
      "위도 : 37.252062377182\n",
      "경도 : 127.075646553903\n",
      "지번주소 : 경기도 수원시 영통구 영통동 1010-12\n",
      "도로명주소 : 경기도 수원시 영통구 청명남로28번길 7\n",
      "전화번호 : 031-205-6465\n",
      "데이터기준일자 : 2016-05-31\n",
      " \n",
      "상호명 : 작센펍\n",
      "상권업종대분류명 : 음식\n",
      "상권업종중분류명 : 한식\n",
      "상권업종소분류명 : 한식/백반/한정식\n",
      "표준산업분류명 : 한식 음식점업\n",
      "위도 : 37.2506071752437\n",
      "경도 : 127.075078175662\n",
      "지번주소 : 경기도 수원시 영통구 영통동 1007-7\n",
      "도로명주소 : 경기도 수원시 영통구 청명남로12번길 5-30\n",
      "전화번호 : 031-273-9606\n",
      "데이터기준일자 : 2016-05-31\n",
      " \n",
      "상호명 : 망고식스\n",
      "상권업종대분류명 : 음식\n",
      "상권업종중분류명 : 커피점/카페\n",
      "상권업종소분류명 : 커피전문점/카페/다방\n",
      "표준산업분류명 : 비알콜 음료점업\n",
      "위도 : 37.252733947355\n",
      "경도 : 127.071647870742\n",
      "지번주소 : 경기도 수원시 영통구 영통동 960-1\n",
      "도로명주소 : 경기도 수원시 영통구 봉영로 1579\n",
      "전화번호 : 031-202-7266\n",
      "데이터기준일자 : 2016-05-31\n",
      " \n",
      "상호명 : 맥주세일\n",
      "상권업종대분류명 : 음식\n",
      "상권업종중분류명 : 유흥주점\n",
      "상권업종소분류명 : 호프/맥주\n",
      "표준산업분류명 : 기타 주점업\n",
      "위도 : 37.2462869526146\n",
      "경도 : 127.059700196735\n",
      "지번주소 : 경기도 수원시 영통구 영통동 976-13\n",
      "도로명주소 : 경기도 수원시 영통구 덕영대로 1543\n",
      "전화번호 : 031-253-9167\n",
      "데이터기준일자 : 2016-05-31\n",
      " \n",
      "상호명 : 성준식품\n",
      "상권업종대분류명 : 소매\n",
      "상권업종중분류명 : 음/식료품소매\n",
      "상권업종소분류명 : 식료품점\n",
      "표준산업분류명 : 기타 식료품 소매업\n",
      "위도 : 37.2460891566234\n",
      "경도 : 127.055227855277\n",
      "지번주소 : 경기도 수원시 영통구 영통동 979-1\n",
      "도로명주소 : 경기도 수원시 영통구 덕영대로 1503\n",
      "전화번호 : 031-273-2378\n",
      "데이터기준일자 : 2016-05-31\n",
      " \n"
     ]
    }
   ],
   "source": [
    "for i in range(10) :\n",
    "    print(\"상호명 : \" + items[i].bizesnm.text)\n",
    "    print(\"상권업종대분류명 : \" + items[i].indslclsnm.text)\n",
    "    print(\"상권업종중분류명 : \" + items[i].indsmclsnm.text)\n",
    "    print(\"상권업종소분류명 : \" + items[i].indssclsnm.text)\n",
    "    print(\"표준산업분류명 : \" + items[i].ksicnm.text)\n",
    "    print(\"위도 : \" + items[i].lat.text)\n",
    "    print(\"경도 : \" + items[i].lon.text)\n",
    "    print(\"지번주소 : \" + items[i].lnoadr.text)\n",
    "    print(\"도로명주소 : \" + items[i].rdnmadr.text)\n",
    "    print(\"전화번호 : \" + items[i].telno.text)\n",
    "    print(\"데이터기준일자 : \" + items[i].stdrdt.text)\n",
    "    print(\" \")"
   ]
  },
  {
   "cell_type": "code",
   "execution_count": 31,
   "metadata": {},
   "outputs": [
    {
     "name": "stdout",
     "output_type": "stream",
     "text": [
      "['전자/정보통신', '생활서비스', '학문/교육', '소매', '음식', '숙박', '의료', '언론/미디어', '부동산', '국가기관/단체', '관광/여가/오락', '제조', '도매/유통/무역', '기술/건축/환경']\n"
     ]
    }
   ],
   "source": [
    "# 상권업종대분류명\n",
    "large_category = []\n",
    "        \n",
    "for j in items :\n",
    "    data = str(j.indslclsnm.text)\n",
    "    large_category.append(data)\n",
    "\n",
    "large_category = list(set(large_category))\n",
    "print(large_category)"
   ]
  },
  {
   "cell_type": "code",
   "execution_count": 24,
   "metadata": {},
   "outputs": [
    {
     "name": "stdout",
     "output_type": "stream",
     "text": [
      "['중식', '커피점/카페', '일식/수산물', '닭/오리요리', '별식/퓨전요리', '패스트푸드', '부페', '한식', '음식배달서비스', '양식', '분식', '유흥주점', '기타음식업', '제과제빵떡케익']\n"
     ]
    }
   ],
   "source": [
    "# 상권업종대분류명 : 음식\n",
    "dari = []\n",
    "food = []\n",
    "for i in items :\n",
    "    if str(i.indslclsnm.text) == \"음식\" :\n",
    "        dari.append(i)\n",
    "        \n",
    "for j in dari :\n",
    "    data = str(j.indsmclsnm.text)\n",
    "    food.append(data)\n",
    "\n",
    "food = list(set(food))\n",
    "print(food)"
   ]
  },
  {
   "cell_type": "code",
   "execution_count": 32,
   "metadata": {},
   "outputs": [
    {
     "name": "stdout",
     "output_type": "stream",
     "text": [
      "['부동산임대', '평가/개발/관리', '부동산중개', '분양']\n"
     ]
    }
   ],
   "source": [
    "# 상권업종대분류명 : 부동산\n",
    "mid_2 = []\n",
    "real_estate = []\n",
    "for i in items :\n",
    "    if str(i.indslclsnm.text) == \"부동산\" :\n",
    "        mid_2.append(i)\n",
    "        \n",
    "for j in mid_2 :\n",
    "    data = str(j.indsmclsnm.text)\n",
    "    real_estate.append(data)\n",
    "\n",
    "real_estate = list(set(real_estate))\n",
    "print(real_estate)"
   ]
  },
  {
   "cell_type": "code",
   "execution_count": 33,
   "metadata": {
    "scrolled": true
   },
   "outputs": [
    {
     "name": "stdout",
     "output_type": "stream",
     "text": [
      "['자동차/이륜차', '행사/이벤트', '주택수리', '장례/묘지', '기타서비스업', '물품기기대여', '이/미용/건강', '광고/인쇄', '주유소/충전소', '사진', '개인서비스', '예식/의례/관혼상제', '세탁/가사서비스', '대중목욕탕/휴게', '운송/배달/택배', '인력/고용/용역알선', '법무세무회계', '대행업', '개인/가정용품수리']\n"
     ]
    }
   ],
   "source": [
    "# 상권업종대분류명 : 생활서비스\n",
    "\n",
    "mid_3 = []\n",
    "service = []\n",
    "\n",
    "for i in items :\n",
    "    if str(i.indslclsnm.text) == \"생활서비스\" :\n",
    "        mid_3.append(i)\n",
    "        \n",
    "for j in mid_3 :\n",
    "    data = str(j.indsmclsnm.text)\n",
    "    service.append(data)\n",
    "\n",
    "service = list(set(service))\n",
    "print(service)"
   ]
  }
 ],
 "metadata": {
  "kernelspec": {
   "display_name": "Python 3",
   "language": "python",
   "name": "python3"
  },
  "language_info": {
   "codemirror_mode": {
    "name": "ipython",
    "version": 3
   },
   "file_extension": ".py",
   "mimetype": "text/x-python",
   "name": "python",
   "nbconvert_exporter": "python",
   "pygments_lexer": "ipython3",
   "version": "3.6.8"
  }
 },
 "nbformat": 4,
 "nbformat_minor": 2
}
