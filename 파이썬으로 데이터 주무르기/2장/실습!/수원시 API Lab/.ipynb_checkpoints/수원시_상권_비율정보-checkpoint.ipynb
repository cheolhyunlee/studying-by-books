{
 "cells": [
  {
   "cell_type": "code",
   "execution_count": 1,
   "metadata": {},
   "outputs": [],
   "source": [
    "import os\n",
    "import sys\n",
    "import urllib.request\n",
    "import datetime\n",
    "import time\n",
    "import json\n",
    "from config import *\n",
    "import math\n",
    "from pprint import pprint\n",
    "import requests\n",
    "from bs4 import BeautifulSoup"
   ]
  },
  {
   "cell_type": "code",
   "execution_count": 2,
   "metadata": {},
   "outputs": [],
   "source": [
    "def get_request_url(url):\n",
    "    \n",
    "    req = urllib.request.Request(url)\n",
    "    \n",
    "    try: \n",
    "        response = urllib.request.urlopen(req)\n",
    "        if response.getcode() == 200:\n",
    "            return response.read().decode('utf-8')\n",
    "    except Exception as e:\n",
    "        print(e)\n",
    "        print(\"[%s] Error for URL : %s\" % (datetime.datetime.now(), url))\n",
    "        return None"
   ]
  },
  {
   "cell_type": "code",
   "execution_count": 3,
   "metadata": {},
   "outputs": [],
   "source": [
    "#[CODE 1]\n",
    "\n",
    "def SanggaInfoService(pageNo,numOfRows,sigunguCd,bjdongCd):\n",
    "    \n",
    "    end_point = \"http://api.suwon.go.kr/openapi-data/service/SanggaInfo/getHjdsearchInfo\"\n",
    "    \n",
    "    parameters = \"?pageNo=\" + str(pageNo)\n",
    "    parameters += \"&numOfRows=\" + str(numOfRows)\n",
    "    parameters += \"&sigunguCd=\" + str(sigunguCd)\n",
    "    parameters += \"&bjdongCd=\" + str(bjdongCd)\n",
    "    parameters += \"&ServiceKey=\" + \"TIyuV2FHFQSS46wIlsJNrwYGs9SqQEDOtNb0XZjVWp8k6pVUitI9BsXYzNGEYhUmLuovIzoeoIEA3fbXwqQwTg%3D%3D\"\n",
    "    \n",
    "    global url\n",
    "    \n",
    "    url = end_point + parameters\n",
    "    \n",
    "    global retData\n",
    "    \n",
    "    retData = get_request_url(url)\n",
    "    \n",
    "    if (retData == None):\n",
    "        return None\n",
    "    else:\n",
    "        return "
   ]
  },
  {
   "cell_type": "code",
   "execution_count": 4,
   "metadata": {},
   "outputs": [],
   "source": [
    "gu_code = 41117 \n",
    "a = [10100,10200,10300,10400,10500,10600,10700]\n",
    "b = ['매탄동','원천동','이의동','하동','영통동','신동','망포동']"
   ]
  },
  {
   "cell_type": "code",
   "execution_count": 13,
   "metadata": {},
   "outputs": [],
   "source": [
    "ratio = []\n",
    "for i in a :\n",
    "    \n",
    "    SanggaInfoService(1,3000,gu_code,i)\n",
    "\n",
    "    soup = BeautifulSoup(retData, \"html.parser\")\n",
    "    items = soup.find_all(\"item\")\n",
    "\n",
    "    food = []\n",
    "    flour = []\n",
    "    \n",
    "    for i in items :\n",
    "        if str(i.indslclsnm.text) == \"음식\" :\n",
    "            food.append(i)\n",
    "\n",
    "    for p in food :\n",
    "        if str(p.indsmclsnm.text) == \"커피점/카페\" :\n",
    "            flour.append(p)\n",
    "\n",
    "    ratio_ind = len(flour)/len(food)\n",
    "\n",
    "    ratio.append(ratio_ind)"
   ]
  },
  {
   "cell_type": "code",
   "execution_count": 14,
   "metadata": {},
   "outputs": [
    {
     "data": {
      "text/plain": [
       "[0.08576051779935275,\n",
       " 0.11751662971175167,\n",
       " 0.18801652892561985,\n",
       " 0.08333333333333333,\n",
       " 0.09198423127463863,\n",
       " 0.16216216216216217,\n",
       " 0.1157556270096463]"
      ]
     },
     "execution_count": 14,
     "metadata": {},
     "output_type": "execute_result"
    }
   ],
   "source": [
    "ratio"
   ]
  },
  {
   "cell_type": "code",
   "execution_count": null,
   "metadata": {},
   "outputs": [],
   "source": []
  }
 ],
 "metadata": {
  "kernelspec": {
   "display_name": "Python 3",
   "language": "python",
   "name": "python3"
  },
  "language_info": {
   "codemirror_mode": {
    "name": "ipython",
    "version": 3
   },
   "file_extension": ".py",
   "mimetype": "text/x-python",
   "name": "python",
   "nbconvert_exporter": "python",
   "pygments_lexer": "ipython3",
   "version": "3.6.8"
  }
 },
 "nbformat": 4,
 "nbformat_minor": 2
}
