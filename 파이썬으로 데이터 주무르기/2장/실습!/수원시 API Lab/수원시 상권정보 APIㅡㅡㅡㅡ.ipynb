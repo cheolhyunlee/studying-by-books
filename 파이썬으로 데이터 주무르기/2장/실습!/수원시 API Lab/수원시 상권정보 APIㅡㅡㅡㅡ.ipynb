{
 "cells": [
  {
   "cell_type": "code",
   "execution_count": 4,
   "metadata": {},
   "outputs": [],
   "source": [
    "import os\n",
    "import sys\n",
    "import urllib.request\n",
    "import datetime\n",
    "import time\n",
    "import json\n",
    "from config import *\n",
    "import math\n",
    "import requests\n",
    "from bs4 import BeautifulSoup"
   ]
  },
  {
   "cell_type": "code",
   "execution_count": 5,
   "metadata": {},
   "outputs": [],
   "source": [
    "def get_request_url(url):\n",
    "    \n",
    "    req = urllib.request.Request(url)\n",
    "    \n",
    "    try: \n",
    "        response = urllib.request.urlopen(req)\n",
    "        if response.getcode() == 200:\n",
    "            print (\"[%s] Url Request Success\" % datetime.datetime.now())\n",
    "            return response.read().decode('utf-8')\n",
    "    except Exception as e:\n",
    "        print(e)\n",
    "        print(\"[%s] Error for URL : %s\" % (datetime.datetime.now(), url))\n",
    "        return None"
   ]
  },
  {
   "cell_type": "code",
   "execution_count": 7,
   "metadata": {},
   "outputs": [],
   "source": [
    "#[CODE 1]\n",
    "\n",
    "def SanggaInfoService(pageNo,numOfRows,sigunguCd,bjdongCd):\n",
    "    \n",
    "    end_point = \"http://api.suwon.go.kr/openapi-data/service/SanggaInfo/getHjdsearchInfo\"\n",
    "    \n",
    "    parameters = \"?pageNo=\" + str(pageNo)\n",
    "    parameters += \"&numOfRows=\" + str(numOfRows)\n",
    "    parameters += \"&sigunguCd=\" + str(sigunguCd)\n",
    "    parameters += \"&bjdongCd=\" + str(bjdongCd)\n",
    "    parameters += \"&ServiceKey=\" + \"TIyuV2FHFQSS46wIlsJNrwYGs9SqQEDOtNb0XZjVWp8k6pVUitI9BsXYzNGEYhUmLuovIzoeoIEA3fbXwqQwTg%3D%3D\"\n",
    "    \n",
    "    global url\n",
    "    \n",
    "    url = end_point + parameters\n",
    "    \n",
    "    global retData\n",
    "    \n",
    "    retData = get_request_url(url)\n",
    "    \n",
    "    if (retData == None):\n",
    "        return None\n",
    "    else:\n",
    "        return "
   ]
  },
  {
   "cell_type": "code",
   "execution_count": 9,
   "metadata": {
    "scrolled": false
   },
   "outputs": [
    {
     "name": "stdout",
     "output_type": "stream",
     "text": [
      "[2019-05-21 22:40:31.576992] Url Request Success\n"
     ]
    },
    {
     "data": {
      "text/plain": [
       "<?xml version=\"1.0\" encoding=\"UTF-8\" standalone=\"yes\"?><response><header><resultcode>00</resultcode><resultmsg>NORMAL SERVICE.</resultmsg></header><body><items><item><adongcd>4111758000</adongcd><adongnm>영통2동</adongnm><bizesid>20363553</bizesid><bizesnm>멕시카나</bizesnm><bldmngno>4111710500109670002000625</bldmngno><bldmnno>20</bldmnno><bldnm>극동풍림아파트</bldnm><brchnm>영통점</brchnm><ctprvncd>41</ctprvncd><ctprvnnm>경기도</ctprvnnm><hono>109</hono><indslclscd>Q</indslclscd><indslclsnm>음식</indslclsnm><indsmclscd>Q05</indsmclscd><indsmclsnm>닭/오리요리</indsmclsnm><indssclscd>Q05A08</indssclscd><indssclsnm>후라이드/양념치킨</indssclsnm><ksiccd>I56193</ksiccd><ksicnm>치킨 전문점</ksicnm><lat>37.2487514783894</lat><ldongcd>4111710500</ldongcd><ldongnm>영통동</ldongnm><lnoadr>경기도 수원시 영통구 영통동 967-2</lnoadr><lnocd>4111710500209670002</lnocd><lnomnno>967</lnomnno><lnoslno>2</lnoslno><lon>127.067109050789</lon><newzipcd>16699</newzipcd><oldzipcd>443733</oldzipcd><plotsctcd>1</plotsctcd><plotsctnm>대지</plotsctnm><rdnm>경기도 수원시 영통구 봉영로1517번길</rdnm><rdnmadr>경기도 수원시 영통구 봉영로1517번길 20</rdnmadr><rdnmcd>411174331088</rdnmcd><signgucd>41117</signgucd><signgunm>수원시 영통구</signgunm><stdrdt>2016-05-31</stdrdt><telno>031-202-9288</telno></item></items><numofrows>1</numofrows><pageno>1</pageno><totalcount>4744</totalcount></body></response>"
      ]
     },
     "execution_count": 9,
     "metadata": {},
     "output_type": "execute_result"
    }
   ],
   "source": [
    "import requests\n",
    "from bs4 import BeautifulSoup\n",
    "\n",
    "SanggaInfoService(1,1,41117,10500)\n",
    "\n",
    "soup = BeautifulSoup(retData, \"html.parser\")\n",
    "soup"
   ]
  },
  {
   "cell_type": "code",
   "execution_count": 15,
   "metadata": {
    "scrolled": true
   },
   "outputs": [
    {
     "data": {
      "text/plain": [
       "<rdnmadr>경기도 수원시 영통구 봉영로1517번길 20</rdnmadr>"
      ]
     },
     "execution_count": 15,
     "metadata": {},
     "output_type": "execute_result"
    }
   ],
   "source": [
    "soup.rdnmadr"
   ]
  },
  {
   "cell_type": "code",
   "execution_count": 16,
   "metadata": {},
   "outputs": [
    {
     "data": {
      "text/plain": [
       "'경기도 수원시 영통구 봉영로1517번길 20'"
      ]
     },
     "execution_count": 16,
     "metadata": {},
     "output_type": "execute_result"
    }
   ],
   "source": [
    "soup.rdnmadr.text"
   ]
  },
  {
   "cell_type": "code",
   "execution_count": 17,
   "metadata": {},
   "outputs": [
    {
     "name": "stdout",
     "output_type": "stream",
     "text": [
      "상호명 : 멕시카나\n",
      "건물명 : 극동풍림아파트\n",
      "상권업종대분류명 : 음식\n",
      "상권업종중분류명 : 닭/오리요리\n",
      "상권업종소분류명 : 후라이드/양념치킨\n",
      "표준산업분류명 : 치킨 전문점\n",
      "위도 : 37.2487514783894\n",
      "경도 : 127.067109050789\n",
      "지번주소 : 경기도 수원시 영통구 영통동 967-2\n",
      "도로명주소 : 경기도 수원시 영통구 봉영로1517번길 20\n",
      "전화번호 : 031-202-9288\n",
      "데이터기준일자 : 2016-05-31\n"
     ]
    }
   ],
   "source": [
    "print(\"상호명 : \" + soup.bizesnm.text)\n",
    "print(\"건물명 : \" + soup.bldnm.text)\n",
    "print(\"상권업종대분류명 : \" + soup.indslclsnm.text)\n",
    "print(\"상권업종중분류명 : \" + soup.indsmclsnm.text)\n",
    "print(\"상권업종소분류명 : \" + soup.indssclsnm.text)\n",
    "print(\"표준산업분류명 : \" + soup.ksicnm.text)\n",
    "print(\"위도 : \" + soup.lat.text)\n",
    "print(\"경도 : \" + soup.lon.text)\n",
    "print(\"지번주소 : \" + soup.lnoadr.text)\n",
    "print(\"도로명주소 : \" + soup.rdnmadr.text)\n",
    "print(\"전화번호 : \" + soup.telno.text)\n",
    "print(\"데이터기준일자 : \" + soup.stdrdt.text)"
   ]
  }
 ],
 "metadata": {
  "kernelspec": {
   "display_name": "Python 3",
   "language": "python",
   "name": "python3"
  },
  "language_info": {
   "codemirror_mode": {
    "name": "ipython",
    "version": 3
   },
   "file_extension": ".py",
   "mimetype": "text/x-python",
   "name": "python",
   "nbconvert_exporter": "python",
   "pygments_lexer": "ipython3",
   "version": "3.6.8"
  }
 },
 "nbformat": 4,
 "nbformat_minor": 2
}
