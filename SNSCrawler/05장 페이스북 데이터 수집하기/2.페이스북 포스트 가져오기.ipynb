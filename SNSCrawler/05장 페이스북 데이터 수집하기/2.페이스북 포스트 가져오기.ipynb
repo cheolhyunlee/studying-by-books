{
 "cells": [
  {
   "cell_type": "code",
   "execution_count": 1,
   "metadata": {
    "scrolled": true
   },
   "outputs": [
    {
     "name": "stdout",
     "output_type": "stream",
     "text": [
      "{'data': [{'comments': {'data': [],\n",
      "                        'summary': {'can_comment': False,\n",
      "                                    'order': 'ranked',\n",
      "                                    'total_count': 2447}},\n",
      "           'created_time': '2017-03-11T13:00:00+0000',\n",
      "           'id': '240263402699918_1348714705188110',\n",
      "           'link': 'https://www.facebook.com/jtbcnews/videos/1348714705188110/',\n",
      "           'message': '\"죽기를 각오하고 온 거 아닙니까!!\"\\n무대 위 그 누구도 이 말에 책임지지 않았습니다.',\n",
      "           'name': \"폭력 선동에 애꿎은 참가자들 '비극'…무책임한 그들\",\n",
      "           'shares': {'count': 3165},\n",
      "           'type': 'video'}],\n",
      " 'paging': {'next': 'https://graph.facebook.com/v2.8/240263402699918/posts?fields=id,message,link,name,type,shares,reactions,created_time,comments.limit%280%29.summary%28true%29&limit=1&since=2016-10-01&access_token=200920440387013|daccef14d5cd41c0e95060d65e66c41d&until=1489237200&__paging_token=enc_AdBVy1Qe7T4fjv6fWi8naz8f2NcQHa02SXsXz0bhPCgTh376usD9cu9MV9gpldcjTUVrFojhcrSrfhnX8SrFFnqbU62AGk8BldB7VhzBPKXJMQZDZD',\n",
      "            'previous': 'https://graph.facebook.com/v2.8/240263402699918/posts?fields=id,message,link,name,type,shares,reactions,created_time,comments.limit%280%29.summary%28true%29&limit=1&since=1489237200&access_token=200920440387013|daccef14d5cd41c0e95060d65e66c41d&__paging_token=enc_AdBVy1Qe7T4fjv6fWi8naz8f2NcQHa02SXsXz0bhPCgTh376usD9cu9MV9gpldcjTUVrFojhcrSrfhnX8SrFFnqbU62AGk8BldB7VhzBPKXJMQZDZD&__previous=1'}}\n"
     ]
    }
   ],
   "source": [
    "# -*- coding: utf-8 -*-\n",
    "\n",
    "# version: 3.5\n",
    "\n",
    "\n",
    "import sys\n",
    "import urllib.request\n",
    "import json\n",
    "from pprint import pprint\n",
    "if __name__ == '__main__':\n",
    "\n",
    "    page_name = \"jtbcnews\"\n",
    "    page_id = \"240263402699918\"\n",
    "    app_id = \"200920440387013\"\n",
    "    app_secret = \"daccef14d5cd41c0e95060d65e66c41d\"\n",
    "\n",
    "    # [CODE 1]\n",
    "\n",
    "    from_date = \"2016-10-01\"\n",
    "    to_date = \"2017-03-12\"\n",
    "    num_statuses = \"1\"\n",
    "    access_token = app_id + \"|\" + app_secret\n",
    "\n",
    "    # [CODE 2]\n",
    "\n",
    "    base = \"https://graph.facebook.com/v2.8\"\n",
    "    node = \"/%s/posts\" % page_id\n",
    "    fields = \"/?fields=id,message,link,name,type,shares,reactions,\" + \\\n",
    "             \"created_time,comments.limit(0).summary(true)\" + \\\n",
    "             \".limit(0).summary(true)\"\n",
    "    duration = \"&since=%s&until=%s\" % (from_date, to_date)\n",
    "    parameters = \"&limit=%s&access_token=%s\" % (num_statuses, access_token)\n",
    "    url = base + node + fields + duration + parameters\n",
    "\n",
    "    req = urllib.request.Request(url)\n",
    "\n",
    "    try:\n",
    "        response = urllib.request.urlopen(req)\n",
    "        if response.getcode() == 200:\n",
    "            data = json.loads(response.read().decode('utf-8'))\n",
    "            pprint (data)\n",
    "            \n",
    "    except Exception as e:\n",
    "        print (e)"
   ]
  },
  {
   "cell_type": "code",
   "execution_count": 4,
   "metadata": {},
   "outputs": [
    {
     "name": "stdout",
     "output_type": "stream",
     "text": [
      "https://graph.facebook.com/v2.8/240263402699918/posts/?fields=id,message,link,name,type,shares,reactions,created_time,comments.limit(0).summary(true).limit(0).summary(true)&since=2017-01-01&until=2017-01-03&limit=1&access_token=200920440387013|daccef14d5cd41c0e95060d65e66c41d\n"
     ]
    }
   ],
   "source": [
    "print(url)"
   ]
  }
 ],
 "metadata": {
  "kernelspec": {
   "display_name": "Python 3",
   "language": "python",
   "name": "python3"
  },
  "language_info": {
   "codemirror_mode": {
    "name": "ipython",
    "version": 3
   },
   "file_extension": ".py",
   "mimetype": "text/x-python",
   "name": "python",
   "nbconvert_exporter": "python",
   "pygments_lexer": "ipython3",
   "version": "3.6.8"
  }
 },
 "nbformat": 4,
 "nbformat_minor": 2
}
