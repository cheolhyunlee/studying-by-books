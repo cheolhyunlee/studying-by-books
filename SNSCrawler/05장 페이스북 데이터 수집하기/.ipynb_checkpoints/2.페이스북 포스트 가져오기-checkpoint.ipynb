{
 "cells": [
  {
   "cell_type": "code",
   "execution_count": 1,
   "metadata": {
    "scrolled": true
   },
   "outputs": [
    {
     "name": "stdout",
     "output_type": "stream",
     "text": [
      "{'data': [{'comments': {'data': [],\n",
      "                        'summary': {'can_comment': False,\n",
      "                                    'order': 'ranked',\n",
      "                                    'total_count': 16807}},\n",
      "           'created_time': '2017-01-02T12:31:46+0000',\n",
      "           'id': '240263402699918_1274767319249516',\n",
      "           'link': 'https://www.facebook.com/jtbcnews/videos/1274767319249516/',\n",
      "           'message': '⚪ 뉴스룸 신년토론 | 2017 한국 어디로 가나 (종료)\\n'\n",
      "                      '유승민, 이재명, 전원책, 유시민 출연. 손석희 진행\\n'\n",
      "                      '\\n'\n",
      "                      '① 탄핵 심판·대통령 수사…전망은?\\n'\n",
      "                      \"② 보수의 분열…'대선판' 어떻게?\\n\"\n",
      "                      \"③ 유승민 vs 이재명 '검증의 시간'\\n\"\n",
      "                      '(▶ http://bit.ly/2i2pEBX 풀영상 다시보기)',\n",
      "           'name': '뉴스룸 신년특집토론',\n",
      "           'shares': {'count': 1633},\n",
      "           'type': 'video'}],\n",
      " 'paging': {'next': 'https://graph.facebook.com/v2.8/240263402699918/posts?fields=id,message,link,name,type,shares,reactions,created_time,comments.limit%280%29.summary%28true%29&limit=1&since=2017-01-01&access_token=200920440387013|daccef14d5cd41c0e95060d65e66c41d&until=1483360306&__paging_token=enc_AdAplJmsu6Wrv63gD4hEeyoEI2raqfmPuDnWUJmxLUKt9aCKX0bPQDcD5DTqdq8ZChZCYiOqd0TZCK3zrcqZAvosDrtYRBREbR87ANO0vjnPUeRUEAZDZD',\n",
      "            'previous': 'https://graph.facebook.com/v2.8/240263402699918/posts?fields=id,message,link,name,type,shares,reactions,created_time,comments.limit%280%29.summary%28true%29&limit=1&since=1483360306&access_token=200920440387013|daccef14d5cd41c0e95060d65e66c41d&__paging_token=enc_AdAplJmsu6Wrv63gD4hEeyoEI2raqfmPuDnWUJmxLUKt9aCKX0bPQDcD5DTqdq8ZChZCYiOqd0TZCK3zrcqZAvosDrtYRBREbR87ANO0vjnPUeRUEAZDZD&__previous=1'}}\n"
     ]
    }
   ],
   "source": [
    "# -*- coding: utf-8 -*-\n",
    "\n",
    "# version: 3.5\n",
    "\n",
    "\n",
    "import sys\n",
    "import urllib.request\n",
    "import json\n",
    "from pprint import pprint\n",
    "if __name__ == '__main__':\n",
    "\n",
    "    page_name = \"jtbcnews\"\n",
    "    page_id = \"240263402699918\"\n",
    "    app_id = \"200920440387013\"\n",
    "    app_secret = \"daccef14d5cd41c0e95060d65e66c41d\"\n",
    "\n",
    "    # [CODE 1]\n",
    "\n",
    "    from_date = \"2017-01-01\"\n",
    "    to_date = \"2017-01-03\"\n",
    "    num_statuses = \"1\"\n",
    "    access_token = app_id + \"|\" + app_secret\n",
    "\n",
    "    # [CODE 2]\n",
    "\n",
    "    base = \"https://graph.facebook.com/v2.8\"\n",
    "    node = \"/%s/posts\" % page_id\n",
    "    fields = \"/?fields=id,message,link,name,type,shares,reactions,\" + \\\n",
    "             \"created_time,comments.limit(0).summary(true)\" + \\\n",
    "             \".limit(0).summary(true)\"\n",
    "    duration = \"&since=%s&until=%s\" % (from_date, to_date)\n",
    "    parameters = \"&limit=%s&access_token=%s\" % (num_statuses, access_token)\n",
    "    url = base + node + fields + duration + parameters\n",
    "\n",
    "    req = urllib.request.Request(url)\n",
    "\n",
    "    try:\n",
    "        response = urllib.request.urlopen(req)\n",
    "        if response.getcode() == 200:\n",
    "            data = json.loads(response.read().decode('utf-8'))\n",
    "            pprint (data)\n",
    "            \n",
    "    except Exception as e:\n",
    "        print (e)"
   ]
  },
  {
   "cell_type": "code",
   "execution_count": 4,
   "metadata": {},
   "outputs": [
    {
     "name": "stdout",
     "output_type": "stream",
     "text": [
      "https://graph.facebook.com/v2.8/240263402699918/posts/?fields=id,message,link,name,type,shares,reactions,created_time,comments.limit(0).summary(true).limit(0).summary(true)&since=2017-01-01&until=2017-01-03&limit=1&access_token=200920440387013|daccef14d5cd41c0e95060d65e66c41d\n"
     ]
    }
   ],
   "source": [
    "print(url)"
   ]
  }
 ],
 "metadata": {
  "kernelspec": {
   "display_name": "Python 3",
   "language": "python",
   "name": "python3"
  },
  "language_info": {
   "codemirror_mode": {
    "name": "ipython",
    "version": 3
   },
   "file_extension": ".py",
   "mimetype": "text/x-python",
   "name": "python",
   "nbconvert_exporter": "python",
   "pygments_lexer": "ipython3",
   "version": "3.6.8"
  }
 },
 "nbformat": 4,
 "nbformat_minor": 2
}
