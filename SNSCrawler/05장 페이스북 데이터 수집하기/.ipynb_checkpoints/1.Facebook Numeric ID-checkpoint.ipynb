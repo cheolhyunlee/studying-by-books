{
 "cells": [
  {
   "cell_type": "code",
   "execution_count": 34,
   "metadata": {},
   "outputs": [],
   "source": [
    "#앱 ID\n",
    "#570375350130413 / 200920440387013\n",
    "#앱 시크릿 코드\n",
    "#b037aaa497f897406f3f020a881269a7 / daccef14d5cd41c0e95060d65e66c41d"
   ]
  },
  {
   "cell_type": "code",
   "execution_count": 2,
   "metadata": {},
   "outputs": [],
   "source": [
    "import sys\n",
    "import urllib.request\n",
    "import json"
   ]
  },
  {
   "cell_type": "code",
   "execution_count": 3,
   "metadata": {},
   "outputs": [],
   "source": [
    "if __name__ == '__main__':\n",
    "    # [CODE 1]\n",
    "\n",
    "    page_name = \"jtbcnews\"\n",
    "    app_id = \"200920440387013\"\n",
    "    app_secret = \"daccef14d5cd41c0e95060d65e66c41d\"\n",
    "    access_token = app_id + \"|\" + app_secret"
   ]
  },
  {
   "cell_type": "code",
   "execution_count": 4,
   "metadata": {},
   "outputs": [],
   "source": [
    "    # [CODE 2]\n",
    "\n",
    "    # https://graph.facebook.com/v2.8/[page_id]/?access+token=[App_ID]|[Secret_Key]\n",
    "\n",
    "    # 형식의 문자열을 만들어 낸다\n",
    "\n",
    "\n",
    "    base = \"https://graph.facebook.com/v2.8\"\n",
    "    node = \"/\" + page_name\n",
    "    parameters = \"/?access_token=%s\" % access_token\n",
    "    url = base + node + parameters"
   ]
  },
  {
   "cell_type": "code",
   "execution_count": 5,
   "metadata": {},
   "outputs": [],
   "source": [
    "    # [CODE 3]\n",
    "\n",
    "    req = urllib.request.Request(url)"
   ]
  },
  {
   "cell_type": "code",
   "execution_count": 44,
   "metadata": {},
   "outputs": [
    {
     "name": "stdout",
     "output_type": "stream",
     "text": [
      "jtbcnews Facebook Numeric ID : 240263402699918\n"
     ]
    }
   ],
   "source": [
    "    # [CODE 4]\n",
    "\n",
    "    try:\n",
    "        response = urllib.request.urlopen(req)\n",
    "        if response.getcode() == 200:\n",
    "            data = json.loads(response.read().decode('utf-8'))\n",
    "            page_id = data['id']\n",
    "            print (\"%s Facebook Numeric ID : %s\" % (page_name, page_id))\n",
    "    except Exception as e:\n",
    "        print (e)"
   ]
  },
  {
   "cell_type": "code",
   "execution_count": null,
   "metadata": {},
   "outputs": [],
   "source": []
  }
 ],
 "metadata": {
  "kernelspec": {
   "display_name": "Python 3",
   "language": "python",
   "name": "python3"
  },
  "language_info": {
   "codemirror_mode": {
    "name": "ipython",
    "version": 3
   },
   "file_extension": ".py",
   "mimetype": "text/x-python",
   "name": "python",
   "nbconvert_exporter": "python",
   "pygments_lexer": "ipython3",
   "version": "3.6.8"
  }
 },
 "nbformat": 4,
 "nbformat_minor": 2
}
