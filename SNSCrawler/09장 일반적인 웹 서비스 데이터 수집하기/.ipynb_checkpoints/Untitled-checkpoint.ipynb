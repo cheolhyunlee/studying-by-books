{
 "cells": [
  {
   "cell_type": "code",
   "execution_count": 15,
   "metadata": {},
   "outputs": [],
   "source": [
    "import urllib.request\n",
    "from bs4 import BeautifulSoup\n",
    "from itertools import count"
   ]
  },
  {
   "cell_type": "code",
   "execution_count": 16,
   "metadata": {},
   "outputs": [],
   "source": [
    "result = []"
   ]
  },
  {
   "cell_type": "code",
   "execution_count": 24,
   "metadata": {},
   "outputs": [
    {
     "name": "stdout",
     "output_type": "stream",
     "text": [
      "안되네\n"
     ]
    }
   ],
   "source": [
    "try :\n",
    "    for page_idx in count() :\n",
    "        html = urllib.request.urlopen(\"https://pelicana.co.kr/store/stroe_search.html?page=%s&branch_name=&gu=&si=\" % str(page_idx + 1))\n",
    "        soupData = BeautifulSoup(html, 'html.parser')\n",
    "        store_table = soupData.find('table',attrs = {'class':'table mt20'})\n",
    "        tbody = store_table.find('tbody')\n",
    "        bEnd = True\n",
    "        for store_tr in tbody.findAll('tr') :\n",
    "            bEnd = False\n",
    "            tr_tag = list(store_tr.strings)\n",
    "            store_name = tr_tag[1]\n",
    "            store_address = tr_tag[3]\n",
    "            store_sido_gu = store_address.split()[:2]\n",
    "\n",
    "            result.append([store_name] + store_sido_gu + [store_address])\n",
    "            if (bEnd == True) :\n",
    "                break\n",
    "except :\n",
    "    print(\"안되네\")"
   ]
  }
 ],
 "metadata": {
  "kernelspec": {
   "display_name": "Python 3",
   "language": "python",
   "name": "python3"
  },
  "language_info": {
   "codemirror_mode": {
    "name": "ipython",
    "version": 3
   },
   "file_extension": ".py",
   "mimetype": "text/x-python",
   "name": "python",
   "nbconvert_exporter": "python",
   "pygments_lexer": "ipython3",
   "version": "3.6.8"
  }
 },
 "nbformat": 4,
 "nbformat_minor": 2
}
