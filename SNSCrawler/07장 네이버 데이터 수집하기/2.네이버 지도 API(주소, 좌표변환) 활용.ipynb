{
 "cells": [
  {
   "cell_type": "code",
   "execution_count": 1,
   "metadata": {},
   "outputs": [],
   "source": [
    "import os\n",
    "import sys\n",
    "import urllib.request\n",
    "import datetime\n",
    "import time\n",
    "import json\n",
    "from config import *"
   ]
  },
  {
   "cell_type": "code",
   "execution_count": 2,
   "metadata": {},
   "outputs": [],
   "source": [
    "def get_request_url(url):\n",
    "    \n",
    "    req = urllib.request.Request(url)\n",
    "    req.add_header(\"X-NCP-APIGW-API-KEY-ID\", \"lmpam78k6x\")\n",
    "    req.add_header(\"X-NCP-APIGW-API-KEY\", \"ARhbvNDTeHlNJ9BVRoA48vjHZuOn5NlTmG6tRZFG\")\n",
    "    try: \n",
    "        response = urllib.request.urlopen(req)\n",
    "        if response.getcode() == 200:\n",
    "            print (\"[%s] Url Request Success\" % datetime.datetime.now())\n",
    "            return response.read().decode('utf-8')\n",
    "    except Exception as e:\n",
    "        print(e)\n",
    "        print(\"[%s] Error for URL : %s\" % (datetime.datetime.now(), url))\n",
    "        return None"
   ]
  },
  {
   "cell_type": "code",
   "execution_count": 3,
   "metadata": {},
   "outputs": [],
   "source": [
    "#[CODE 1]\n",
    "\n",
    "def getGeoData(address):\n",
    "\n",
    "    base = \"https://naveropenapi.apigw.ntruss.com/map-geocode/v2/geocode\"\n",
    "    node = \"\"\n",
    "    parameters = \"?query=%s\" % urllib.parse.quote(address)\n",
    "    coordinates = \"&coordinate=127.049375,37.682474\"\n",
    "    url = base + node + parameters + coordinates\n",
    "    retData = get_request_url(url)\n",
    "    \n",
    "    if (retData == None):\n",
    "        return None\n",
    "    else:\n",
    "        return json.loads(retData)"
   ]
  },
  {
   "cell_type": "code",
   "execution_count": 4,
   "metadata": {
    "scrolled": true
   },
   "outputs": [
    {
     "name": "stdout",
     "output_type": "stream",
     "text": [
      "[2019-02-07 02:02:27.155503] Url Request Success\n",
      "총 검색 결과:  1\n",
      "검색어:  서울특별시 종로구 사직로 161 경복궁\n",
      "=======================\n",
      "주소:  서울특별시 종로구 사직로 161 경복궁\n",
      "위도:  37.580849792206436\n",
      "경도:  126.97684571625935\n"
     ]
    }
   ],
   "source": [
    "def main():\n",
    "\n",
    "    jsonResult = getGeoData('서울특별시 종로구 사직로 161 경복궁') \n",
    "\n",
    "    if 'status' in jsonResult.keys():\n",
    "        print('총 검색 결과: ', jsonResult['meta']['totalCount'])\n",
    "        print('검색어: ', jsonResult['addresses'][0]['roadAddress'])\n",
    "\n",
    "        for item in jsonResult['addresses']:\n",
    "            print('=======================')\n",
    "            print('주소: ', item['roadAddress'])\n",
    "            print('위도: ', str(item['y']))\n",
    "            print('경도: ', str(item['x']))\n",
    "\n",
    "if __name__ == '__main__':\n",
    "    main()"
   ]
  },
  {
   "cell_type": "code",
   "execution_count": 1,
   "metadata": {},
   "outputs": [
    {
     "ename": "NameError",
     "evalue": "name 'jsonResult' is not defined",
     "output_type": "error",
     "traceback": [
      "\u001b[1;31m---------------------------------------------------------------------------\u001b[0m",
      "\u001b[1;31mNameError\u001b[0m                                 Traceback (most recent call last)",
      "\u001b[1;32m<ipython-input-1-5a0c11fbd76a>\u001b[0m in \u001b[0;36m<module>\u001b[1;34m\u001b[0m\n\u001b[1;32m----> 1\u001b[1;33m \u001b[0mprint\u001b[0m\u001b[1;33m(\u001b[0m\u001b[0mjsonResult\u001b[0m\u001b[1;33m)\u001b[0m\u001b[1;33m\u001b[0m\u001b[1;33m\u001b[0m\u001b[0m\n\u001b[0m",
      "\u001b[1;31mNameError\u001b[0m: name 'jsonResult' is not defined"
     ]
    }
   ],
   "source": [
    "print(jsonResult)"
   ]
  },
  {
   "cell_type": "code",
   "execution_count": 5,
   "metadata": {
    "scrolled": true
   },
   "outputs": [
    {
     "name": "stdout",
     "output_type": "stream",
     "text": [
      "[2019-02-07 02:02:29.582694] Url Request Success\n"
     ]
    },
    {
     "data": {
      "text/plain": [
       "{'status': 'OK',\n",
       " 'meta': {'totalCount': 1, 'page': 1, 'count': 1},\n",
       " 'addresses': [{'roadAddress': '서울특별시 종로구 사직로 161 경복궁',\n",
       "   'jibunAddress': '서울특별시 종로구 세종로 1-1 경복궁',\n",
       "   'englishAddress': '161, Sajik-ro, Jongno-gu, Seoul, Republic of Korea',\n",
       "   'addressElements': [{'types': ['POSTAL_CODE'],\n",
       "     'longName': '03045',\n",
       "     'shortName': '',\n",
       "     'code': ''}],\n",
       "   'x': '126.97684571625935',\n",
       "   'y': '37.580849792206436',\n",
       "   'distance': 12971.469545244792}],\n",
       " 'errorMessage': ''}"
      ]
     },
     "execution_count": 5,
     "metadata": {},
     "output_type": "execute_result"
    }
   ],
   "source": [
    "a = getGeoData('서울특별시 종로구 사직로 161 경복궁')"
   ]
  },
  {
   "cell_type": "code",
   "execution_count": 66,
   "metadata": {},
   "outputs": [],
   "source": [
    "a = getGeoData('서울특별시 종로구 사직로 161 경복궁')\n",
    "with open('maps_json_data.json', 'w', encoding=\"utf-8\") as make_file:\n",
    "    json.dump(a, make_file, ensure_ascii=False, indent=\"\\t\")"
   ]
  }
 ],
 "metadata": {
  "kernelspec": {
   "display_name": "Python 3",
   "language": "python",
   "name": "python3"
  },
  "language_info": {
   "codemirror_mode": {
    "name": "ipython",
    "version": 3
   },
   "file_extension": ".py",
   "mimetype": "text/x-python",
   "name": "python",
   "nbconvert_exporter": "python",
   "pygments_lexer": "ipython3",
   "version": "3.6.8"
  }
 },
 "nbformat": 4,
 "nbformat_minor": 2
}
