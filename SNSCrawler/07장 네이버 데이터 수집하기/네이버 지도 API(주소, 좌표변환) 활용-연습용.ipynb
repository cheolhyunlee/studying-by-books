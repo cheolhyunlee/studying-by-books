{
 "cells": [
  {
   "cell_type": "code",
   "execution_count": 1,
   "metadata": {},
   "outputs": [],
   "source": [
    "import os\n",
    "import sys\n",
    "import urllib.request\n",
    "import datetime\n",
    "import time\n",
    "import json\n",
    "from config import *"
   ]
  },
  {
   "cell_type": "code",
   "execution_count": 2,
   "metadata": {},
   "outputs": [],
   "source": [
    "def get_request_url(url):\n",
    "    \n",
    "    req = urllib.request.Request(url)\n",
    "    req.add_header(\"X-NCP-APIGW-API-KEY-ID\", \"lmpam78k6x\")\n",
    "    req.add_header(\"X-NCP-APIGW-API-KEY\", \"ARhbvNDTeHlNJ9BVRoA48vjHZuOn5NlTmG6tRZFG\")\n",
    "    try: \n",
    "        response = urllib.request.urlopen(req)\n",
    "        if response.getcode() == 200:\n",
    "            print (\"[%s] Url Request Success\" % datetime.datetime.now())\n",
    "            return response.read().decode('utf-8')\n",
    "    except Exception as e:\n",
    "        print(e)\n",
    "        print(\"[%s] Error for URL : %s\" % (datetime.datetime.now(), url))\n",
    "        return None"
   ]
  },
  {
   "cell_type": "code",
   "execution_count": 3,
   "metadata": {},
   "outputs": [],
   "source": [
    "#[CODE 1]\n",
    "\n",
    "def getGeoData(address):\n",
    "\n",
    "    base = \"https://naveropenapi.apigw.ntruss.com/map-geocode/v2/geocode\"\n",
    "    node = \"\"\n",
    "    parameters = \"?query=%s\" % urllib.parse.quote(address)\n",
    "    coordinates = \"&coordinate=127.049375,37.682474\"\n",
    "    url = base + node + parameters + coordinates\n",
    "    retData = get_request_url(url)\n",
    "    \n",
    "    if (retData == None):\n",
    "        return None\n",
    "    else:\n",
    "        return json.loads(retData)"
   ]
  },
  {
   "cell_type": "code",
   "execution_count": 4,
   "metadata": {},
   "outputs": [
    {
     "name": "stdout",
     "output_type": "stream",
     "text": [
      "[2019-05-24 05:12:40.895796] Url Request Success\n",
      "총 검색 결과:  1\n",
      "검색어:  경기도 수원시 권선구 세지로94번길 49-7\n",
      "=======================\n",
      "주소:  경기도 수원시 권선구 세지로94번길 49-7\n",
      "위도:  37.2596314\n",
      "경도:  127.0210936\n"
     ]
    }
   ],
   "source": [
    "def main():\n",
    "\n",
    "    jsonResult = getGeoData('수원시 권선구 세지로94번길 49-7') \n",
    "\n",
    "    if 'status' in jsonResult.keys():\n",
    "        print('총 검색 결과: ', jsonResult['meta']['totalCount'])\n",
    "        print('검색어: ', jsonResult['addresses'][0]['roadAddress'])\n",
    "\n",
    "        for item in jsonResult['addresses']:\n",
    "            print('=======================')\n",
    "            print('주소: ', item['roadAddress'])\n",
    "            print('위도: ', str(item['y']))\n",
    "            print('경도: ', str(item['x']))\n",
    "\n",
    "if __name__ == '__main__':\n",
    "    main()"
   ]
  },
  {
   "cell_type": "code",
   "execution_count": 5,
   "metadata": {
    "scrolled": true
   },
   "outputs": [
    {
     "name": "stdout",
     "output_type": "stream",
     "text": [
      "[2019-05-24 05:12:46.795051] Url Request Success\n"
     ]
    },
    {
     "data": {
      "text/plain": [
       "{'status': 'OK',\n",
       " 'meta': {'totalCount': 1, 'page': 1, 'count': 1},\n",
       " 'addresses': [{'roadAddress': '경기도 수원시 권선구 세지로94번길 49-7',\n",
       "   'jibunAddress': '경기도 수원시 권선구 권선동 973-8',\n",
       "   'englishAddress': '49-7, Seji-ro 94beon-gil, Gwonseon-gu, Suwon-si, Gyeonggi-do, Republic of Korea',\n",
       "   'addressElements': [{'types': ['SIDO'],\n",
       "     'longName': '경기도',\n",
       "     'shortName': '경기도',\n",
       "     'code': ''},\n",
       "    {'types': ['SIGUGUN'],\n",
       "     'longName': '수원시 권선구',\n",
       "     'shortName': '수원시 권선구',\n",
       "     'code': ''},\n",
       "    {'types': ['DONGMYUN'], 'longName': '권선동', 'shortName': '권선동', 'code': ''},\n",
       "    {'types': ['RI'], 'longName': '', 'shortName': '', 'code': ''},\n",
       "    {'types': ['ROAD_NAME'],\n",
       "     'longName': '세지로94번길',\n",
       "     'shortName': '세지로94번길',\n",
       "     'code': ''},\n",
       "    {'types': ['BUILDING_NUMBER'],\n",
       "     'longName': '49-7',\n",
       "     'shortName': '49-7',\n",
       "     'code': ''},\n",
       "    {'types': ['BUILDING_NAME'], 'longName': '', 'shortName': '', 'code': ''},\n",
       "    {'types': ['LAND_NUMBER'],\n",
       "     'longName': '973-8',\n",
       "     'shortName': '973-8',\n",
       "     'code': ''},\n",
       "    {'types': ['POSTAL_CODE'],\n",
       "     'longName': '16564',\n",
       "     'shortName': '16564',\n",
       "     'code': ''}],\n",
       "   'x': '127.0210936',\n",
       "   'y': '37.2596314',\n",
       "   'distance': 47052.42}],\n",
       " 'errorMessage': ''}"
      ]
     },
     "execution_count": 5,
     "metadata": {},
     "output_type": "execute_result"
    }
   ],
   "source": [
    "a = getGeoData('수원시 권선구 세지로94번길 49-7')\n",
    "a"
   ]
  },
  {
   "cell_type": "code",
   "execution_count": 66,
   "metadata": {},
   "outputs": [],
   "source": [
    "with open('maps_json_data.json', 'w', encoding=\"utf-8\") as make_file:\n",
    "    json.dump(a, make_file, ensure_ascii=False, indent=\"\\t\")"
   ]
  }
 ],
 "metadata": {
  "kernelspec": {
   "display_name": "Python 3",
   "language": "python",
   "name": "python3"
  },
  "language_info": {
   "codemirror_mode": {
    "name": "ipython",
    "version": 3
   },
   "file_extension": ".py",
   "mimetype": "text/x-python",
   "name": "python",
   "nbconvert_exporter": "python",
   "pygments_lexer": "ipython3",
   "version": "3.6.8"
  }
 },
 "nbformat": 4,
 "nbformat_minor": 2
}
