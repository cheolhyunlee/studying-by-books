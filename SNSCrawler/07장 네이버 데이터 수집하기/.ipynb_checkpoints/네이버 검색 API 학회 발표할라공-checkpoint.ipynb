{
 "cells": [
  {
   "cell_type": "code",
   "execution_count": 4,
   "metadata": {},
   "outputs": [],
   "source": [
    "import os\n",
    "import sys\n",
    "import urllib.request\n",
    "import datetime\n",
    "import time\n",
    "import json"
   ]
  },
  {
   "cell_type": "code",
   "execution_count": 5,
   "metadata": {},
   "outputs": [],
   "source": [
    "#[CODE 1]\n",
    "\n",
    "def get_request_url(url):\n",
    "    \n",
    "    req = urllib.request.Request(url) \n",
    "    req.add_header(\"X-Naver-Client-Id\",\"9cp1ZYWES1QSuUAUem0g\")\n",
    "    req.add_header(\"X-Naver-Client-Secret\", \"XOwEA5auiQ\")\n",
    "    \n",
    "    try: \n",
    "        response = urllib.request.urlopen(req)\n",
    "        \n",
    "        if response.getcode() == 200:\n",
    "            print (\"[%s] Url Request Success\" % datetime.datetime.now())\n",
    "            return response.read().decode('utf-8')\n",
    "        \n",
    "    except Exception as e:\n",
    "        \n",
    "        print(e)\n",
    "        print(\"[%s] Error for URL : %s\" % (datetime.datetime.now(), url))\n",
    "        \n",
    "        return None"
   ]
  },
  {
   "cell_type": "code",
   "execution_count": 20,
   "metadata": {},
   "outputs": [],
   "source": [
    "#[CODE 2]\n",
    "\n",
    "def getNaverSearchResult(sNode, search_text, page_start, display):\n",
    "    \n",
    "    base = \"https://openapi.naver.com/v1/search\"\n",
    "    \n",
    "    node = \"/%s.json\" % sNode\n",
    "    \n",
    "    parameters = \"?query=%s\" % (urllib.parse.quote(search_text))\n",
    "    parameters += \"&start=%s\" % (page_start)\n",
    "    parameters += \"&display=%s\" % (display)\n",
    "    \n",
    "    url = base + node + parameters\n",
    "    \n",
    "    global retData\n",
    "    \n",
    "    retData = get_request_url(url)\n",
    "    \n",
    "    if (retData == None):\n",
    "        return None\n",
    "    else:\n",
    "        return json.loads(retData)"
   ]
  },
  {
   "cell_type": "code",
   "execution_count": 26,
   "metadata": {
    "scrolled": false
   },
   "outputs": [
    {
     "name": "stdout",
     "output_type": "stream",
     "text": [
      "[2019-05-25 03:22:29.491590] Url Request Success\n"
     ]
    },
    {
     "data": {
      "text/plain": [
       "{\n",
       "\"lastBuildDate\": \"Sat, 25 May 2019 03:22:29 +0900\",\n",
       "\"total\": 399825,\n",
       "\"start\": 1,\n",
       "\"display\": 1,\n",
       "\"items\": [\n",
       "{\n",
       "\"title\": \"브라질 <b>경제</b>장관 \"연금개혁 사활…안되면 사퇴할 것\"\",\n",
       "\"originallink\": \"http://yna.kr/AKR20190525000900094?did=1195m\",\n",
       "\"link\": \"https://news.naver.com/main/read.nhn?mode=LSD&amp;mid=sec&amp;sid1=104&amp;oid=001&amp;aid=0010846924\",\n",
       "\"description\": \"<b>경제</b>협력개발기구(OECD)는 올해 브라질의 <b>성장률</b>이 세계 <b>경제</b>의 절반 수준에 미치지 못할 것으로 내다보면서 연금개혁이 속도를 내지 못하면서 <b>성장률</b> 전망치를 끌어내리고 있다고 지적했다.\",\n",
       "\"pubDate\": \"Sat, 25 May 2019 00:42:00 +0900\"\n",
       "\n",
       "}\n",
       "]\n",
       "}"
      ]
     },
     "execution_count": 26,
     "metadata": {},
     "output_type": "execute_result"
    }
   ],
   "source": [
    "from bs4 import BeautifulSoup\n",
    "\n",
    "getNaverSearchResult('news', '경제성장률', 1, 1)\n",
    "\n",
    "pro_data = BeautifulSoup(retData, 'html.parser')\n",
    "pro_data"
   ]
  }
 ],
 "metadata": {
  "kernelspec": {
   "display_name": "Python 3",
   "language": "python",
   "name": "python3"
  },
  "language_info": {
   "codemirror_mode": {
    "name": "ipython",
    "version": 3
   },
   "file_extension": ".py",
   "mimetype": "text/x-python",
   "name": "python",
   "nbconvert_exporter": "python",
   "pygments_lexer": "ipython3",
   "version": "3.6.8"
  }
 },
 "nbformat": 4,
 "nbformat_minor": 2
}
